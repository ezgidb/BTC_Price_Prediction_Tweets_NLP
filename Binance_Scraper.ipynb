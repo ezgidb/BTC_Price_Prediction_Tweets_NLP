{
 "cells": [
  {
   "cell_type": "code",
   "execution_count": 1,
   "id": "34be089f",
   "metadata": {},
   "outputs": [
    {
     "name": "stderr",
     "output_type": "stream",
     "text": [
      "[nltk_data] Downloading package punkt to\n",
      "[nltk_data]     C:\\Users\\Ozan\\AppData\\Roaming\\nltk_data...\n",
      "[nltk_data]   Package punkt is already up-to-date!\n"
     ]
    }
   ],
   "source": [
    "import pandas as pd\n",
    "import numpy as np\n",
    "from warnings import filterwarnings\n",
    "from langdetect import detect # used for filtering english comments\n",
    "from langdetect import lang_detect_exception\n",
    "import re # used for find and resplace regex expressions\n",
    "from string import punctuation # used for get rid of punctuations\n",
    "import nltk #used for word tokenizing\n",
    "from nltk.tokenize import word_tokenize\n",
    "from nltk.corpus import stopwords\n",
    "nltk.download('punkt')\n",
    "import time\n",
    "#Parallelization is achieved by dividing a large chunk of data into smaller chunks and these smaller chunks are processed parallelly\n",
    "import swifter\n",
    "from textblob import TextBlob\n",
    "\n",
    "\n",
    "filterwarnings('ignore')\n",
    "\n",
    "stop_words= stopwords.words('english')\n",
    "stop_words.remove('not')\n"
   ]
  },
  {
   "cell_type": "markdown",
   "id": "a60062d9",
   "metadata": {},
   "source": [
    "### **Getting historical data of cyrptocurrencies:** \\\n",
    "\n",
    "1- BINANCE\\\n",
    "2- ....\\\n",
    "3-....\\"
   ]
  },
  {
   "cell_type": "markdown",
   "id": "73867d54",
   "metadata": {},
   "source": [
    "#### BINANCE INFO:\n",
    "**With Binance API:**\n",
    "HTTP method: GET \\\n",
    "API endpoint: /api/v3/klines\n",
    "\n",
    "Request Parameters:\n",
    "symbol: base crypto and pair. (Ex: BTCUSDT) \\\n",
    "interval: Candlestick time interval. Many traders call this timeframe.\\\n",
    "startTime: Historical start time in timestamp milliseconds. \\\n",
    "endTime: Historical end time in timestamp milliseconds. \\\n",
    "limit: Maximum number of candlesticks. \\\n",
    "\n",
    "\\\n",
    "\n",
    "Response:\\\n",
    "\n",
    "[\\\n",
    "  [\\\n",
    "    1499040000000,      // Kline open time\\\n",
    "    \"0.01634790\",       // Open price\\\n",
    "    \"0.80000000\",       // High price\\\n",
    "    \"0.01575800\",       // Low price\\\n",
    "    \"0.01577100\",       // Close price\\\n",
    "    \"148976.11427815\",  // Volume\\\n",
    "    1499644799999,      // Kline Close time\\\n",
    "    \"2434.19055334\",    // Quote asset volume\\\n",
    "    308,                // Number of trades\\\n",
    "    \"1756.87402397\",    // Taker buy base asset volume\\\n",
    "    \"28.46694368\",      // Taker buy quote asset volume\\\n",
    "    \"0\"                 // Unused field, ignore.\\\n",
    "  ]\\\n",
    "]\\\n"
   ]
  },
  {
   "cell_type": "code",
   "execution_count": 5,
   "id": "d5cecd9d",
   "metadata": {},
   "outputs": [],
   "source": [
    "import pandas as pd\n",
    "from tqdm.notebook import tqdm  # to show the  progress bar\n",
    "import snscrape.modules.twitter as snswitter\n",
    "import time\n",
    "import datetime\n",
    "import json\n",
    "import requests\n",
    "\n",
    "\n",
    "import warnings\n",
    "warnings.filterwarnings(\"ignore\")\n",
    "\n",
    "# matplotlib and seaborn for plotting\n",
    "import matplotlib.pyplot as plt\n",
    "import seaborn as sns\n",
    "\n",
    "import matplotlib\n",
    "matplotlib.rc('figure', figsize = (20, 8))\n",
    "matplotlib.rc('font', size = 14)\n",
    "matplotlib.rc('axes.spines', top = False, right = False)\n",
    "matplotlib.rc('axes', grid = False)\n",
    "matplotlib.rc('axes', facecolor = 'white')\n",
    "\n",
    "path = '<folder path>'\n"
   ]
  },
  {
   "cell_type": "code",
   "execution_count": 6,
   "id": "e9533b5a",
   "metadata": {},
   "outputs": [],
   "source": [
    "def save_as_csv_excel(df,filename,sheetname,path):\n",
    "    '{}'.format(df).to_csv(f'{path}{filename}.csv', index= False)\n",
    "    '{}'.format(df).to_excel(f'{path}{filename}.csv', sheet_name= f'{sheetname}', index=False)\n",
    "    Print(f'File is saved as Csv & Excel to the file : {path}')"
   ]
  },
  {
   "cell_type": "code",
   "execution_count": 7,
   "id": "5a11a1d1",
   "metadata": {},
   "outputs": [],
   "source": [
    "    \n",
    "def binance_coin_scrape(base,quote,interval,startdate,enddate):\n",
    "    \"\"\"    \n",
    "    variable formats:\n",
    "        base = 'RNDR'\n",
    "        quote = 'USDT\n",
    "        interval = '1d'\n",
    "        startdate = yyyy/m/d\n",
    "        \n",
    "    Returns 'base+quote'_df dataframe\n",
    "    \"\"\"\n",
    "\n",
    "    url = 'https://api.binance.com/'\n",
    "    endpoint = 'api/v3/klines'\n",
    "\n",
    "    symbol = base+quote\n",
    "    interval = interval\n",
    "    limit = 1000\n",
    "    \n",
    "    s_date = list(map(int,(startdate.split('/'))))\n",
    "    e_date = list(map(int,(enddate.split('/'))))\n",
    "\n",
    "    start = datetime.datetime(s_date[0],s_date[1],s_date[2],); end = datetime.datetime(e_date[0],e_date[1],e_date[2],)\n",
    "    startTime = int(datetime.datetime.timestamp(start)*1000); endTime = int(datetime.datetime.timestamp(end)*1000)\n",
    "\n",
    "\n",
    "    href = f\"{url}{endpoint}?symbol={symbol}&interval={interval}&startTime={startTime}&endTime={endTime}&limit={limit}&\"\n",
    "\n",
    "    data = requests.get(href).json()\n",
    "\n",
    "\n",
    "    binance_data = pd.DataFrame(data,columns = [\"OpenTime\", \"Open\", \"High\", \"Low\", \"Close\",f\"{base} Volume\",\"CloseTime\",f\"{quote} Volume\",\"No. of trades\", f\"Taker Buy ({base})\", f\"Taker Buy ({quote})\", \"Ignore\"])\n",
    "    \n",
    "    binance_data['CloseTime'] = binance_data['CloseTime'].div(1000)\n",
    "    binance_data['OpenTime'] = binance_data['OpenTime'].div(1000)\n",
    "    \n",
    "    for i in range (len(binance_data['CloseTime'])):\n",
    "        binance_data['CloseTime'][i] = datetime.datetime.fromtimestamp(binance_data['CloseTime'][i])\n",
    "        binance_data['OpenTime'][i] = datetime.datetime.fromtimestamp(binance_data['OpenTime'][i])\n",
    "        \n",
    "    return binance_data\n"
   ]
  },
  {
   "cell_type": "code",
   "execution_count": 21,
   "id": "dbc3967c",
   "metadata": {},
   "outputs": [],
   "source": [
    "hourly1= binance_coin_scrape('BTC','USDT','1h','2021/2/5','2021/6/24')"
   ]
  },
  {
   "cell_type": "code",
   "execution_count": 22,
   "id": "8950e6e2",
   "metadata": {},
   "outputs": [
    {
     "name": "stdout",
     "output_type": "stream",
     "text": [
      "2021-02-05 00:00:00  to 2021-03-18 17:00:00\n"
     ]
    }
   ],
   "source": [
    "print(hourly1.OpenTime.iloc[0],\" to\", dot_hist_hour.OpenTime.iloc[-1])"
   ]
  },
  {
   "cell_type": "code",
   "execution_count": 25,
   "id": "4b20c701",
   "metadata": {},
   "outputs": [
    {
     "name": "stdout",
     "output_type": "stream",
     "text": [
      "2021-03-18 00:00:00  to 2021-04-28 20:00:00\n"
     ]
    }
   ],
   "source": [
    "hourly2= binance_coin_scrape('BTC','USDT','1h','2021/3/18','2021/6/24')\n",
    "print(hourly2.OpenTime.iloc[0],\" to\", hourly2.OpenTime.iloc[-1])"
   ]
  },
  {
   "cell_type": "code",
   "execution_count": 26,
   "id": "d7ad629c",
   "metadata": {},
   "outputs": [
    {
     "name": "stdout",
     "output_type": "stream",
     "text": [
      "2021-04-28 00:00:00  to 2021-06-08 15:00:00\n"
     ]
    }
   ],
   "source": [
    "hourly3= binance_coin_scrape('BTC','USDT','1h','2021/4/28','2021/6/24')\n",
    "print(hourly3.OpenTime.iloc[0],\" to\", hourly3.OpenTime.iloc[-1])"
   ]
  },
  {
   "cell_type": "code",
   "execution_count": 27,
   "id": "d92eb9a8",
   "metadata": {},
   "outputs": [
    {
     "name": "stdout",
     "output_type": "stream",
     "text": [
      "2021-06-08 00:00:00  to 2021-06-24 00:00:00\n"
     ]
    }
   ],
   "source": [
    "hourly4= binance_coin_scrape('BTC','USDT','1h','2021/6/8','2021/6/24')\n",
    "print(hourly4.OpenTime.iloc[0],\" to\", hourly4.OpenTime.iloc[-1])"
   ]
  },
  {
   "cell_type": "code",
   "execution_count": 30,
   "id": "ff022dab",
   "metadata": {},
   "outputs": [
    {
     "name": "stdout",
     "output_type": "stream",
     "text": [
      "<class 'pandas.core.frame.DataFrame'>\n",
      "RangeIndex: 3385 entries, 0 to 3384\n",
      "Data columns (total 12 columns):\n",
      " #   Column            Non-Null Count  Dtype \n",
      "---  ------            --------------  ----- \n",
      " 0   OpenTime          3385 non-null   object\n",
      " 1   Open              3385 non-null   object\n",
      " 2   High              3385 non-null   object\n",
      " 3   Low               3385 non-null   object\n",
      " 4   Close             3385 non-null   object\n",
      " 5   BTC Volume        3385 non-null   object\n",
      " 6   CloseTime         3385 non-null   object\n",
      " 7   USDT Volume       3385 non-null   object\n",
      " 8   No. of trades     3385 non-null   int64 \n",
      " 9   Taker Buy (BTC)   3385 non-null   object\n",
      " 10  Taker Buy (USDT)  3385 non-null   object\n",
      " 11  Ignore            3385 non-null   object\n",
      "dtypes: int64(1), object(11)\n",
      "memory usage: 317.5+ KB\n"
     ]
    }
   ],
   "source": [
    "btc1 = pd.DataFrame(hourly1)\n",
    "btc2 = pd.DataFrame(hourly2)\n",
    "btc3 = pd.DataFrame(hourly3)\n",
    "btc4 = pd.DataFrame(hourly4)\n",
    "btc_hist_data = pd.concat([btc1,btc2,btc3,\n",
    "                          btc4], ignore_index= True, sort=False)\n",
    "btc_hist_data.info()\n",
    "btc_hist_data.to_csv(path+'btc_1h_20210205_20210624_full.csv', index= False)"
   ]
  },
  {
   "cell_type": "code",
   "execution_count": 18,
   "id": "5255c2e5",
   "metadata": {},
   "outputs": [],
   "source": [
    "dot_hist_hour.to_csv(path+'btc_1h_20210205_20210624.csv', index= False)"
   ]
  }
 ],
 "metadata": {
  "kernelspec": {
   "display_name": "Python 3 (ipykernel)",
   "language": "python",
   "name": "python3"
  },
  "language_info": {
   "codemirror_mode": {
    "name": "ipython",
    "version": 3
   },
   "file_extension": ".py",
   "mimetype": "text/x-python",
   "name": "python",
   "nbconvert_exporter": "python",
   "pygments_lexer": "ipython3",
   "version": "3.10.7"
  }
 },
 "nbformat": 4,
 "nbformat_minor": 5
}
