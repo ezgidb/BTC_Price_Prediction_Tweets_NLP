{
 "cells": [
  {
   "cell_type": "markdown",
   "id": "a6174a5a",
   "metadata": {},
   "source": [
    "READ ME:\n",
    "\n",
    "Problem:\n",
    "Predict the pollution for the next hour based on the weather conditions and pollution over the last 24 hours.\n",
    "Predict the pollution for the next hour as above and given the “expected” weather conditions for the next hour.\n",
    "\n",
    "Data:\n",
    "\n",
    "Methodology:\n",
    "\n",
    "#### 1. Preprocessing : Cleaning & Text Normalization for NLP:\n",
    "**Lovercase whole tweets**\n",
    "**Cleaning :**\n",
    "- remove emojis\n",
    "- remove links\n",
    "- remove hashtag sign\n",
    "- remove 3dots\n",
    "- remove \"rt @\"\n",
    "- remove mentiones\n",
    "- remove \"rt &\"data = re.sub(rt_and_patters,\" \",str(data)) \n",
    "- remove \"\\n\"\n",
    "- fix contractions Can't = cannot\n",
    "- remove punctuations\n",
    "- remove digits\n",
    "**Tokenization & Text Normalizations\n",
    "- Word Tokens\n",
    "- Stemming\n",
    "- Lemmatization\n",
    "- Remove Stopwords\n",
    "\n",
    "#### 2. Feature Creation:\n",
    "- Calculated houry tweet volume database\n",
    "- BTC historical data merging\n",
    "\n",
    "#### 3 Sentiment Analysis by TextBlob:\n",
    "- Subjectivity Score\n",
    "- Polarity Score\n",
    "- Created Sentimens (Positive/Neutral/Negative)\n",
    "- Calculated Sentiment scores with Subjectivity, tweet volume\n",
    "\n",
    "#### 4. Explorative Data Analysis:\n",
    "- Checking for Null values\n",
    "- Checking for outliers\n",
    "- Chacking for cross corralation\n",
    "\n",
    "#### 5. Feature Importance: \n",
    "Sklearn Libraries\n",
    "- Mutual_info_regression \n",
    "- F_regression\n",
    "- Random Forest Feature Importance\n",
    "- RFE(Random Forest )\n",
    "\n",
    "#### 5. Processed Final Data for MAchine Learning:\n",
    "- Timeseries DataFrame with selected features\n"
   ]
  },
  {
   "cell_type": "code",
   "execution_count": 1,
   "id": "11bb2440",
   "metadata": {},
   "outputs": [
    {
     "name": "stderr",
     "output_type": "stream",
     "text": [
      "[nltk_data] Downloading package punkt to\n",
      "[nltk_data]     C:\\Users\\Ozan\\AppData\\Roaming\\nltk_data...\n",
      "[nltk_data]   Package punkt is already up-to-date!\n",
      "[nltk_data] Downloading package wordnet to\n",
      "[nltk_data]     C:\\Users\\Ozan\\AppData\\Roaming\\nltk_data...\n",
      "[nltk_data]   Package wordnet is already up-to-date!\n"
     ]
    },
    {
     "data": {
      "text/html": [
       "        <script type=\"text/javascript\">\n",
       "        window.PlotlyConfig = {MathJaxConfig: 'local'};\n",
       "        if (window.MathJax && window.MathJax.Hub && window.MathJax.Hub.Config) {window.MathJax.Hub.Config({SVG: {font: \"STIX-Web\"}});}\n",
       "        if (typeof require !== 'undefined') {\n",
       "        require.undef(\"plotly\");\n",
       "        requirejs.config({\n",
       "            paths: {\n",
       "                'plotly': ['https://cdn.plot.ly/plotly-2.16.1.min']\n",
       "            }\n",
       "        });\n",
       "        require(['plotly'], function(Plotly) {\n",
       "            window._Plotly = Plotly;\n",
       "        });\n",
       "        }\n",
       "        </script>\n",
       "        "
      ]
     },
     "metadata": {},
     "output_type": "display_data"
    }
   ],
   "source": [
    "# Import Libraries\n",
    "import pandas as pd\n",
    "import numpy as np\n",
    "\n",
    "import re #used for find and resplace regex expressions\n",
    "import string #used for get rid of punctuations\n",
    "import time\n",
    "import datetime\n",
    "\n",
    "import contractions\n",
    "from collections import Counter,OrderedDict\n",
    "\n",
    "from langdetect import detect # to detect non-english tweets\n",
    "\n",
    "# NLTK modules necessary for processing data for sentimental analysis\n",
    "import nltk #used for word tokenizing\n",
    "from nltk.tokenize import word_tokenize\n",
    "from nltk.corpus import stopwords, wordnet\n",
    "from nltk.stem import WordNetLemmatizer,PorterStemmer\n",
    "from nltk.util import ngrams\n",
    "nltk.download('punkt')\n",
    "nltk.download('wordnet')\n",
    "stop_words= set(stopwords.words('english'))\n",
    "stop_words.remove('not')\n",
    "\n",
    "from sklearn.feature_extraction.text import CountVectorizer, TfidfVectorizer\n",
    "\n",
    "from wordcloud import WordCloud\n",
    "\n",
    "\n",
    "# correction text tools\n",
    "from textblob import TextBlob\n",
    "from spellchecker import SpellChecker\n",
    "\n",
    "#changing data type from object to ....\n",
    "from ast import literal_eval\n",
    "\n",
    "\n",
    "\n",
    "\"\"\"Parallelization is achieved by dividing a large chunk of data into smaller chunks and \n",
    "these smaller chunks are processed parallelly\"\"\" \n",
    "import swifter \n",
    "\n",
    "\"\"\" for parallel processing if the data gets big it will increase functionality\"\"\"\n",
    "import dask.dataframe as dd\n",
    "from dask.multiprocessing import get\n",
    "\n",
    "\n",
    "from tqdm.notebook import tqdm\n",
    "tqdm.pandas()\n",
    "\n",
    "\"\"\" ignoring warnings \"\"\"\n",
    "from warnings import filterwarnings\n",
    "filterwarnings('ignore')\n",
    "\n",
    "\"\"\"This will set the no truncate for Pandas as well as for Dask. \n",
    "I am not sure how it does for Dask though, but it works.\"\"\"\n",
    "\n",
    "import matplotlib.pyplot as plt\n",
    "import seaborn as sns\n",
    "color = sns.color_palette()\n",
    "%matplotlib inline\n",
    "import plotly.offline as py\n",
    "py.init_notebook_mode(connected=True)\n",
    "import plotly.graph_objs as go\n",
    "import plotly.tools as tls\n",
    "import plotly.express as px\n",
    "#pd.set_option('display.max_colwidth', None)"
   ]
  },
  {
   "cell_type": "code",
   "execution_count": 2,
   "id": "1cb2aec5",
   "metadata": {},
   "outputs": [
    {
     "name": "stdout",
     "output_type": "stream",
     "text": [
      "C:\\Users\\Ozan\\Desktop\\DS\\PostgreSQLPython\\Notebook\n"
     ]
    }
   ],
   "source": [
    "import os  # operating system interface \n",
    "print(os.getcwd())"
   ]
  },
  {
   "cell_type": "markdown",
   "id": "24eca091",
   "metadata": {},
   "source": [
    "# Twitter Data "
   ]
  },
  {
   "cell_type": "code",
   "execution_count": 3,
   "id": "2a9e822a",
   "metadata": {},
   "outputs": [
    {
     "name": "stdout",
     "output_type": "stream",
     "text": [
      "#btc_twitter_data_10\n",
      "#deprem  since\n",
      "#deprem OR #enkazaltindayiz  since\n",
      "#deprem OR #enkazaltindayiz  since_time\n",
      "#deprem OR #enkazaltindayiz  until\n",
      "#deprem OR #enkazaltindayiz  until_time\n",
      "#deprem OR #enkazaltindayiz_twitter_data_10\n",
      "#deprem until_time=1675645855 since_time\n",
      "#deprem_twitter_data_10\n",
      "#python_twitter_data_10\n",
      "#rifathisarciklioglu.csv\n",
      "#rifathisarciklioglu_twitter_data_10\n",
      "#tobb.csv\n",
      "(#deprem OR #enkazaltÄ±ndayÄ±m) until_time=1675645855 since_time\n",
      "(#deprem OR #enkazaltÄ±ndayÄ±m) until_time={1675645855} since_time\n",
      "+#polkadot OR #dot_4000\n",
      "100000_tweets.csv\n",
      "100000_tweets.xlsx\n",
      "Bitcoin_tweets.csv.zip\n",
      "Bitcoin_tweets_dataset_2.csv.zip\n",
      "Bitcoin_tweets_dataset_2.csv~\n",
      "Bitcoin_tweets_dataset_2_val.csv\n",
      "Bitcoin_weets.csv\n",
      "ML_tweet_feature_Selected_data.csv\n",
      "Tweet_and_BTC_merged_data.csv\n",
      "Tweet_and_BTC_merged_data_w_scores.csv\n",
      "_#polkadot_4000\n",
      "all_polkadot.csv\n",
      "btc_03062023.csv\n",
      "btc_1d_20230206_20230214\n",
      "btc_1h_20210205_20210624.csv\n",
      "btc_1h_20210205_20210624_full.csv\n",
      "btc_1h_2021029_20210623\n",
      "btc_1h_20230211_20230215\n",
      "btc_20000_02242023\n",
      "btc_20000_02242023.csv\n",
      "btc_5m_20230206_20230209\n",
      "btc_5m_20230206_20230214\n",
      "btc_binance_4h_02242023.csv\n",
      "btc_binance_daily_02242023.csv\n",
      "btc_binance_hourly_02242023.csv\n",
      "btc_binance_weekly_02242023.csv\n",
      "btc_historical.csv\n",
      "btc_historical.txt\n",
      "btc_historical.xlsx\n",
      "clean_polkadot_02242023.csv\n",
      "clean_tweet_eng_kaggledataset.csv\n",
      "clean_tweet_eng_sentiments_kaggledataset.csv\n",
      "clean_tweet_eng_sentiments_score_kaggledataset.csv\n",
      "clean_tweet_kaggledataset.csv\n",
      "clean_tweet_lan_kaggledataset.csv\n",
      "data_bitcoin_tweets.csv\n",
      "deneme_twitter_data_10\n",
      "df_text_all.csv\n",
      "df_text_all_kaggledataset.csv\n",
      "df_text_all_language.csv\n",
      "dot_daily_6m.csv\n",
      "dot_hourly_6m.csv\n",
      "hastags_polkadot.csv\n",
      "hastags_polkadot_Rev2.csv\n",
      "polkadot_20000_02242023.csv\n",
      "polkatos_binance_daily_02242023.csv\n",
      "processed_tweet_scpre_vol.csv\n",
      "rndr_btc_100000_tweets_total.txt\n",
      "rndr_btc_20000_tweets.txt\n",
      "rndr_btc_tweets.txt\n",
      "rndr_historical.xlsx\n",
      "rndr_tweets_20000.csv\n",
      "rndr_tweets_20000.xlsx\n",
      "sentiments_final_grouped_df_btc.csv\n",
      "stop_words_tr.txt\n",
      "tweet_vol_kaggledataset.csv\n",
      "twitter_scrape_TOBB\n",
      "untitled.txt\n"
     ]
    }
   ],
   "source": [
    "# path for data folder\n",
    "file = 'C:\\\\Users\\\\Ozan\\\\Desktop\\\\DS\\\\PostgreSQLPython\\\\Notebook\\\\data\\\\'\n",
    "\n",
    "#List of all the documents in the folder:\n",
    "!ls C:\\\\Users\\\\Ozan\\\\Desktop\\\\DS\\\\PostgreSQLPython\\\\Notebook\\\\data"
   ]
  },
  {
   "cell_type": "code",
   "execution_count": 23,
   "id": "144620fc",
   "metadata": {},
   "outputs": [],
   "source": [
    "#load first 200.000 rows from the data\n",
    "\n",
    "df = pd.read_csv(file+'Bitcoin_tweets_dataset_2_val.csv', parse_dates= ['date'], nrows= 100)"
   ]
  },
  {
   "cell_type": "code",
   "execution_count": 24,
   "id": "5791aa88",
   "metadata": {},
   "outputs": [
    {
     "name": "stdout",
     "output_type": "stream",
     "text": [
      "Raw data size :  (100, 13)\n",
      "<class 'pandas.core.frame.DataFrame'>\n",
      "RangeIndex: 100 entries, 0 to 99\n",
      "Data columns (total 13 columns):\n",
      " #   Column            Non-Null Count  Dtype         \n",
      "---  ------            --------------  -----         \n",
      " 0   user_name         100 non-null    object        \n",
      " 1   user_location     54 non-null     object        \n",
      " 2   user_description  94 non-null     object        \n",
      " 3   user_created      100 non-null    object        \n",
      " 4   user_followers    100 non-null    int64         \n",
      " 5   user_friends      100 non-null    int64         \n",
      " 6   user_favourites   100 non-null    int64         \n",
      " 7   user_verified     100 non-null    bool          \n",
      " 8   date              100 non-null    datetime64[ns]\n",
      " 9   text              100 non-null    object        \n",
      " 10  hashtags          100 non-null    object        \n",
      " 11  source            100 non-null    object        \n",
      " 12  is_retweet        100 non-null    bool          \n",
      "dtypes: bool(2), datetime64[ns](1), int64(3), object(7)\n",
      "memory usage: 8.9+ KB\n",
      "Raw data information :  None\n"
     ]
    }
   ],
   "source": [
    "print(\"Raw data size : \" , df.shape)\n",
    "print(\"Raw data information : \",(df.info()))"
   ]
  },
  {
   "cell_type": "code",
   "execution_count": 25,
   "id": "1f2dc147",
   "metadata": {},
   "outputs": [],
   "source": [
    "# Filter features from raw data \n",
    "\n",
    "df_text= df[['date', 'text']]\n",
    "df_text = pd.DataFrame(df_text)"
   ]
  },
  {
   "cell_type": "code",
   "execution_count": 26,
   "id": "431c747a",
   "metadata": {},
   "outputs": [
    {
     "data": {
      "text/html": [
       "<div>\n",
       "<style scoped>\n",
       "    .dataframe tbody tr th:only-of-type {\n",
       "        vertical-align: middle;\n",
       "    }\n",
       "\n",
       "    .dataframe tbody tr th {\n",
       "        vertical-align: top;\n",
       "    }\n",
       "\n",
       "    .dataframe thead th {\n",
       "        text-align: right;\n",
       "    }\n",
       "</style>\n",
       "<table border=\"1\" class=\"dataframe\">\n",
       "  <thead>\n",
       "    <tr style=\"text-align: right;\">\n",
       "      <th></th>\n",
       "      <th>date</th>\n",
       "      <th>text</th>\n",
       "    </tr>\n",
       "  </thead>\n",
       "  <tbody>\n",
       "    <tr>\n",
       "      <th>0</th>\n",
       "      <td>2023-03-01 23:59:59</td>\n",
       "      <td>Which #bitcoin books should I think about read...</td>\n",
       "    </tr>\n",
       "    <tr>\n",
       "      <th>1</th>\n",
       "      <td>2023-03-01 23:59:47</td>\n",
       "      <td>@ThankGodForBTC I appreciate the message, but ...</td>\n",
       "    </tr>\n",
       "    <tr>\n",
       "      <th>2</th>\n",
       "      <td>2023-03-01 23:59:42</td>\n",
       "      <td>#Ethereum price update: \\n\\n#ETH $1664.02 USD\\...</td>\n",
       "    </tr>\n",
       "    <tr>\n",
       "      <th>3</th>\n",
       "      <td>2023-03-01 23:59:36</td>\n",
       "      <td>CoinDashboard v3.0 is here\\nAvailable on ios a...</td>\n",
       "    </tr>\n",
       "    <tr>\n",
       "      <th>4</th>\n",
       "      <td>2023-03-01 23:59:32</td>\n",
       "      <td>#Bitcoin Short Term Fractal (4H)💥\\n\\nIn lower ...</td>\n",
       "    </tr>\n",
       "  </tbody>\n",
       "</table>\n",
       "</div>"
      ],
      "text/plain": [
       "                 date                                               text\n",
       "0 2023-03-01 23:59:59  Which #bitcoin books should I think about read...\n",
       "1 2023-03-01 23:59:47  @ThankGodForBTC I appreciate the message, but ...\n",
       "2 2023-03-01 23:59:42  #Ethereum price update: \\n\\n#ETH $1664.02 USD\\...\n",
       "3 2023-03-01 23:59:36  CoinDashboard v3.0 is here\\nAvailable on ios a...\n",
       "4 2023-03-01 23:59:32  #Bitcoin Short Term Fractal (4H)💥\\n\\nIn lower ..."
      ]
     },
     "execution_count": 26,
     "metadata": {},
     "output_type": "execute_result"
    }
   ],
   "source": [
    "df_text.head()"
   ]
  },
  {
   "cell_type": "code",
   "execution_count": 27,
   "id": "a82d6511",
   "metadata": {},
   "outputs": [
    {
     "name": "stdout",
     "output_type": "stream",
     "text": [
      "<class 'pandas.core.frame.DataFrame'>\n",
      "RangeIndex: 100 entries, 0 to 99\n",
      "Data columns (total 2 columns):\n",
      " #   Column  Non-Null Count  Dtype         \n",
      "---  ------  --------------  -----         \n",
      " 0   date    100 non-null    datetime64[ns]\n",
      " 1   text    100 non-null    object        \n",
      "dtypes: datetime64[ns](1), object(1)\n",
      "memory usage: 1.7+ KB\n"
     ]
    }
   ],
   "source": [
    "df_text.info()"
   ]
  },
  {
   "cell_type": "code",
   "execution_count": 30,
   "id": "647dc6ab",
   "metadata": {},
   "outputs": [],
   "source": [
    "df_tweet = df_text.copy()"
   ]
  },
  {
   "cell_type": "code",
   "execution_count": 31,
   "id": "020d1889",
   "metadata": {},
   "outputs": [
    {
     "data": {
      "text/plain": [
       "date    0\n",
       "text    0\n",
       "dtype: int64"
      ]
     },
     "execution_count": 31,
     "metadata": {},
     "output_type": "execute_result"
    }
   ],
   "source": [
    "# check for empty cells\n",
    "df_tweet.isnull().sum()"
   ]
  },
  {
   "cell_type": "code",
   "execution_count": 32,
   "id": "9f446604",
   "metadata": {},
   "outputs": [
    {
     "name": "stdout",
     "output_type": "stream",
     "text": [
      "Dimensionality of the data is (100, 2)\n",
      "The data set has 100 cases.\n",
      "The total number of elements is 200.\n"
     ]
    }
   ],
   "source": [
    "# Query some properties of the data\n",
    "print('Dimensionality of the data is {}'.format(df_tweet.shape))  # .shape returns a tupel\n",
    "print('The data set has {} cases.'.format(df_tweet.shape[0]))     # we can also index the elements of that tupel\n",
    "print('The total number of elements is {}.'.format(df_tweet.size))"
   ]
  },
  {
   "cell_type": "code",
   "execution_count": 33,
   "id": "66821c27",
   "metadata": {},
   "outputs": [],
   "source": [
    "df_tweet.rename(columns = {'text':'tweet'}, inplace = True)"
   ]
  },
  {
   "cell_type": "code",
   "execution_count": 34,
   "id": "f4b85975",
   "metadata": {},
   "outputs": [
    {
     "data": {
      "text/html": [
       "<div>\n",
       "<style scoped>\n",
       "    .dataframe tbody tr th:only-of-type {\n",
       "        vertical-align: middle;\n",
       "    }\n",
       "\n",
       "    .dataframe tbody tr th {\n",
       "        vertical-align: top;\n",
       "    }\n",
       "\n",
       "    .dataframe thead th {\n",
       "        text-align: right;\n",
       "    }\n",
       "</style>\n",
       "<table border=\"1\" class=\"dataframe\">\n",
       "  <thead>\n",
       "    <tr style=\"text-align: right;\">\n",
       "      <th></th>\n",
       "      <th>date</th>\n",
       "      <th>tweet</th>\n",
       "    </tr>\n",
       "  </thead>\n",
       "  <tbody>\n",
       "    <tr>\n",
       "      <th>0</th>\n",
       "      <td>2023-03-01 23:59:59</td>\n",
       "      <td>Which #bitcoin books should I think about read...</td>\n",
       "    </tr>\n",
       "    <tr>\n",
       "      <th>1</th>\n",
       "      <td>2023-03-01 23:59:47</td>\n",
       "      <td>@ThankGodForBTC I appreciate the message, but ...</td>\n",
       "    </tr>\n",
       "    <tr>\n",
       "      <th>2</th>\n",
       "      <td>2023-03-01 23:59:42</td>\n",
       "      <td>#Ethereum price update: \\n\\n#ETH $1664.02 USD\\...</td>\n",
       "    </tr>\n",
       "    <tr>\n",
       "      <th>3</th>\n",
       "      <td>2023-03-01 23:59:36</td>\n",
       "      <td>CoinDashboard v3.0 is here\\nAvailable on ios a...</td>\n",
       "    </tr>\n",
       "    <tr>\n",
       "      <th>4</th>\n",
       "      <td>2023-03-01 23:59:32</td>\n",
       "      <td>#Bitcoin Short Term Fractal (4H)💥\\n\\nIn lower ...</td>\n",
       "    </tr>\n",
       "  </tbody>\n",
       "</table>\n",
       "</div>"
      ],
      "text/plain": [
       "                 date                                              tweet\n",
       "0 2023-03-01 23:59:59  Which #bitcoin books should I think about read...\n",
       "1 2023-03-01 23:59:47  @ThankGodForBTC I appreciate the message, but ...\n",
       "2 2023-03-01 23:59:42  #Ethereum price update: \\n\\n#ETH $1664.02 USD\\...\n",
       "3 2023-03-01 23:59:36  CoinDashboard v3.0 is here\\nAvailable on ios a...\n",
       "4 2023-03-01 23:59:32  #Bitcoin Short Term Fractal (4H)💥\\n\\nIn lower ..."
      ]
     },
     "execution_count": 34,
     "metadata": {},
     "output_type": "execute_result"
    }
   ],
   "source": [
    "df_tweet.head()"
   ]
  },
  {
   "cell_type": "markdown",
   "id": "47f59c2e",
   "metadata": {},
   "source": [
    "# 1. Cleaning & Text Normalization for NLP:\n",
    "First, by using NLP techniques, the text has been cleaned, parsed, and removed all the\n",
    "stopwords, hashtags, links, and other unnecessary information, have been applied on\n",
    "it in order to get a plain text which contains only the most important tokens for the ML\n",
    "classifier, and a text with less capacity required"
   ]
  },
  {
   "cell_type": "code",
   "execution_count": 35,
   "id": "ee455ed9",
   "metadata": {},
   "outputs": [],
   "source": [
    "# Text lowercase \n",
    "df_tweet['tweet'] = df_tweet['tweet'].str.lower()\n",
    "\n",
    "# Change date column type into datetime\n",
    "#df_tweet['date'] = pd.to_datetime(df_tweet['date'])"
   ]
  },
  {
   "cell_type": "markdown",
   "id": "83cd568d",
   "metadata": {},
   "source": [
    "### 1.1 Cleaning"
   ]
  },
  {
   "cell_type": "markdown",
   "id": "29086924",
   "metadata": {},
   "source": [
    "- #### Patterns for  subtractions:"
   ]
  },
  {
   "cell_type": "code",
   "execution_count": 36,
   "id": "ea9ece50",
   "metadata": {},
   "outputs": [],
   "source": [
    "\n",
    "# https://en.wikipedia.org/wiki/Unicode_block\n",
    "emoji_pattern = re.compile(\n",
    "    \"[\"\n",
    "    \"\\U0001F1E0-\\U0001F1FF\"  # flags (iOS)\n",
    "    \"\\U0001F300-\\U0001F5FF\"  # symbols & pictographs\n",
    "    \"\\U0001F600-\\U0001F64F\"  # emoticons\n",
    "    \"\\U0001F680-\\U0001F6FF\"  # transport & map symbols\n",
    "    \"\\U0001F700-\\U0001F77F\"  # alchemical symbols\n",
    "    \"\\U0001F780-\\U0001F7FF\"  # Geometric Shapes Extended\n",
    "    \"\\U0001F800-\\U0001F8FF\"  # Supplemental Arrows-C\n",
    "    \"\\U0001F900-\\U0001F9FF\"  # Supplemental Symbols and Pictographs\n",
    "    \"\\U0001FA00-\\U0001FA6F\"  # Chess Symbols\n",
    "    \"\\U0001FA70-\\U0001FAFF\"  # Symbols and Pictographs Extended-A\n",
    "    \"\\U00002702-\\U000027B0\"  # Dingbats\n",
    "    \"\\U000024C2-\\U0001F251\" \n",
    "    \"]+\"\n",
    ")\n",
    "\n",
    "tag_pattern = re.compile(\"(?:\\#)\\S+\") #hashtag pattern\n",
    "\n",
    "rt_mention_pattern = re.compile(\"rt @[A-Za-z0-9_:]+\") #rt @ pattern\n",
    "\n",
    "mentioned_pattern = re.compile(\"(?:\\@)\\S+\") # @mention pattern\n",
    "\n",
    "links_pattern = re.compile(\"http\\S+|www\\S+|https\\S+\") #http/https etc. pattern\n",
    "\n",
    "digits_pattern = re.compile(\"\\w*\\d+\\w*\") #removes all numbers \n",
    "\n",
    "rt_and_pattern= re.compile(\"rt &[A-Za-z0-9_;]+\") #removes \"rt &\"\" pattern \n"
   ]
  },
  {
   "cell_type": "markdown",
   "id": "81b5d654",
   "metadata": {},
   "source": [
    "- #### Cleaning function: \n",
    "    Returns clean tweets, free from emojis, hastags,mentions,punctiotions,digits + fixed contractions"
   ]
  },
  {
   "cell_type": "code",
   "execution_count": 37,
   "id": "5d5441eb",
   "metadata": {},
   "outputs": [
    {
     "name": "stdout",
     "output_type": "stream",
     "text": [
      "Cleaning tweet process:  0.004022121429443359\n"
     ]
    }
   ],
   "source": [
    "translator = str.maketrans(\" \",\" \",string.punctuation)\n",
    "start= time.time()\n",
    "def cleaning_tweet(data):\n",
    "    data = re.sub(emoji_pattern,\" \",str(data))             # remove emojis\n",
    "    data = re.sub(links_pattern,\" \",str(data))             # remove links\n",
    "    data = str(data).replace(\"#\",\"\")                        # remove hashtag sign\n",
    "    data = str(data).replace(\"...\",\"\")                        # remove 3dots\n",
    "    data = re.sub(rt_mention_pattern,\" \",str(data))        # remove \"rt @\"\n",
    "    data = re.sub(mentioned_pattern,\" \",str(data))         # remove mentiones\n",
    "    data = re.sub(rt_and_pattern,\" \",str(data))            # remove \"rt &\"data = re.sub(rt_and_patters,\" \",str(data)) \n",
    "    data = str(data).replace(\"\\n\",\" \")                     # remove \"\\n\"\n",
    "    data = contractions.fix(data)                          #fix contractions Can't = cannot\n",
    "    data = data.translate(translator)                      # remove punctuations\n",
    "    data = \" \".join([w for w in data.split() if not w.isdigit()]) # remove digits\n",
    "    return data\n",
    "    \n",
    "df_tweet['clean_tweet'] = df_tweet['tweet'].apply(lambda x: cleaning_tweet(x))                 \n",
    "end = time.time()\n",
    "print(\"Cleaning tweet process: \", end-start)"
   ]
  },
  {
   "cell_type": "code",
   "execution_count": 38,
   "id": "cf6874a6",
   "metadata": {},
   "outputs": [
    {
     "name": "stdout",
     "output_type": "stream",
     "text": [
      "<class 'pandas.core.frame.DataFrame'>\n",
      "RangeIndex: 100 entries, 0 to 99\n",
      "Data columns (total 3 columns):\n",
      " #   Column       Non-Null Count  Dtype         \n",
      "---  ------       --------------  -----         \n",
      " 0   date         100 non-null    datetime64[ns]\n",
      " 1   tweet        100 non-null    object        \n",
      " 2   clean_tweet  100 non-null    object        \n",
      "dtypes: datetime64[ns](1), object(2)\n",
      "memory usage: 2.5+ KB\n"
     ]
    }
   ],
   "source": [
    "df_tweet.info()"
   ]
  },
  {
   "cell_type": "code",
   "execution_count": 39,
   "id": "dbaef40b",
   "metadata": {},
   "outputs": [
    {
     "data": {
      "text/html": [
       "<div>\n",
       "<style scoped>\n",
       "    .dataframe tbody tr th:only-of-type {\n",
       "        vertical-align: middle;\n",
       "    }\n",
       "\n",
       "    .dataframe tbody tr th {\n",
       "        vertical-align: top;\n",
       "    }\n",
       "\n",
       "    .dataframe thead th {\n",
       "        text-align: right;\n",
       "    }\n",
       "</style>\n",
       "<table border=\"1\" class=\"dataframe\">\n",
       "  <thead>\n",
       "    <tr style=\"text-align: right;\">\n",
       "      <th></th>\n",
       "      <th>date</th>\n",
       "      <th>tweet</th>\n",
       "      <th>clean_tweet</th>\n",
       "    </tr>\n",
       "  </thead>\n",
       "  <tbody>\n",
       "    <tr>\n",
       "      <th>0</th>\n",
       "      <td>2023-03-01 23:59:59</td>\n",
       "      <td>which #bitcoin books should i think about read...</td>\n",
       "      <td>which bitcoin books should i think about readi...</td>\n",
       "    </tr>\n",
       "    <tr>\n",
       "      <th>1</th>\n",
       "      <td>2023-03-01 23:59:47</td>\n",
       "      <td>@thankgodforbtc i appreciate the message, but ...</td>\n",
       "      <td>i appreciate the message but not a fan of the ...</td>\n",
       "    </tr>\n",
       "    <tr>\n",
       "      <th>2</th>\n",
       "      <td>2023-03-01 23:59:42</td>\n",
       "      <td>#ethereum price update: \\n\\n#eth $1664.02 usd\\...</td>\n",
       "      <td>ethereum price update eth usd bitcoin btc foll...</td>\n",
       "    </tr>\n",
       "  </tbody>\n",
       "</table>\n",
       "</div>"
      ],
      "text/plain": [
       "                 date                                              tweet  \\\n",
       "0 2023-03-01 23:59:59  which #bitcoin books should i think about read...   \n",
       "1 2023-03-01 23:59:47  @thankgodforbtc i appreciate the message, but ...   \n",
       "2 2023-03-01 23:59:42  #ethereum price update: \\n\\n#eth $1664.02 usd\\...   \n",
       "\n",
       "                                         clean_tweet  \n",
       "0  which bitcoin books should i think about readi...  \n",
       "1  i appreciate the message but not a fan of the ...  \n",
       "2  ethereum price update eth usd bitcoin btc foll...  "
      ]
     },
     "execution_count": 39,
     "metadata": {},
     "output_type": "execute_result"
    }
   ],
   "source": [
    "df_tweet.head(3)"
   ]
  },
  {
   "cell_type": "markdown",
   "id": "0340d789",
   "metadata": {},
   "source": [
    "### 1.2 Text Normalization:"
   ]
  },
  {
   "cell_type": "markdown",
   "id": "e540c3a5",
   "metadata": {},
   "source": [
    "- #### Tokenization : Creates word tokens from clean text"
   ]
  },
  {
   "cell_type": "code",
   "execution_count": 40,
   "id": "a581dc6c",
   "metadata": {},
   "outputs": [
    {
     "name": "stdout",
     "output_type": "stream",
     "text": [
      "tokenization process:  0.010997533798217773\n"
     ]
    },
    {
     "data": {
      "text/html": [
       "<div>\n",
       "<style scoped>\n",
       "    .dataframe tbody tr th:only-of-type {\n",
       "        vertical-align: middle;\n",
       "    }\n",
       "\n",
       "    .dataframe tbody tr th {\n",
       "        vertical-align: top;\n",
       "    }\n",
       "\n",
       "    .dataframe thead th {\n",
       "        text-align: right;\n",
       "    }\n",
       "</style>\n",
       "<table border=\"1\" class=\"dataframe\">\n",
       "  <thead>\n",
       "    <tr style=\"text-align: right;\">\n",
       "      <th></th>\n",
       "      <th>date</th>\n",
       "      <th>tweet</th>\n",
       "      <th>clean_tweet</th>\n",
       "      <th>tokens</th>\n",
       "    </tr>\n",
       "  </thead>\n",
       "  <tbody>\n",
       "    <tr>\n",
       "      <th>58</th>\n",
       "      <td>2023-03-01 23:54:30</td>\n",
       "      <td>if you need a hacker for any kind of problem c...</td>\n",
       "      <td>if you need a hacker for any kind of problem c...</td>\n",
       "      <td>[if, you, need, a, hacker, for, any, kind, of,...</td>\n",
       "    </tr>\n",
       "    <tr>\n",
       "      <th>31</th>\n",
       "      <td>2023-03-01 23:56:40</td>\n",
       "      <td>#binancecoin price update: $bnb\\n\\n#bnb $302.9...</td>\n",
       "      <td>binancecoin price update bnb bnb usd bitcoin b...</td>\n",
       "      <td>[binancecoin, price, update, bnb, bnb, usd, bi...</td>\n",
       "    </tr>\n",
       "  </tbody>\n",
       "</table>\n",
       "</div>"
      ],
      "text/plain": [
       "                  date                                              tweet  \\\n",
       "58 2023-03-01 23:54:30  if you need a hacker for any kind of problem c...   \n",
       "31 2023-03-01 23:56:40  #binancecoin price update: $bnb\\n\\n#bnb $302.9...   \n",
       "\n",
       "                                          clean_tweet  \\\n",
       "58  if you need a hacker for any kind of problem c...   \n",
       "31  binancecoin price update bnb bnb usd bitcoin b...   \n",
       "\n",
       "                                               tokens  \n",
       "58  [if, you, need, a, hacker, for, any, kind, of,...  \n",
       "31  [binancecoin, price, update, bnb, bnb, usd, bi...  "
      ]
     },
     "execution_count": 40,
     "metadata": {},
     "output_type": "execute_result"
    }
   ],
   "source": [
    "\n",
    "start= time.time()\n",
    "df_tweet['tokens'] = df_tweet['clean_tweet'].apply(word_tokenize)\n",
    "df_tweet.sample(3)\n",
    "end = time.time()\n",
    "\n",
    "print(\"tokenization process: \", end-start)\n",
    "df_tweet.sample(2)"
   ]
  },
  {
   "cell_type": "markdown",
   "id": "3e0247f5",
   "metadata": {},
   "source": [
    "- #### Stemming:"
   ]
  },
  {
   "cell_type": "code",
   "execution_count": 41,
   "id": "f2686850",
   "metadata": {},
   "outputs": [
    {
     "name": "stdout",
     "output_type": "stream",
     "text": [
      "stemming process:  0.015657901763916016\n"
     ]
    },
    {
     "data": {
      "text/html": [
       "<div>\n",
       "<style scoped>\n",
       "    .dataframe tbody tr th:only-of-type {\n",
       "        vertical-align: middle;\n",
       "    }\n",
       "\n",
       "    .dataframe tbody tr th {\n",
       "        vertical-align: top;\n",
       "    }\n",
       "\n",
       "    .dataframe thead th {\n",
       "        text-align: right;\n",
       "    }\n",
       "</style>\n",
       "<table border=\"1\" class=\"dataframe\">\n",
       "  <thead>\n",
       "    <tr style=\"text-align: right;\">\n",
       "      <th></th>\n",
       "      <th>date</th>\n",
       "      <th>tweet</th>\n",
       "      <th>clean_tweet</th>\n",
       "      <th>tokens</th>\n",
       "      <th>stemmed</th>\n",
       "    </tr>\n",
       "  </thead>\n",
       "  <tbody>\n",
       "    <tr>\n",
       "      <th>66</th>\n",
       "      <td>2023-03-01 23:53:15</td>\n",
       "      <td>💰 market cap. swap 💰 what would one #maiar-dex...</td>\n",
       "      <td>market cap swap what would one maiardex mex co...</td>\n",
       "      <td>[market, cap, swap, what, would, one, maiardex...</td>\n",
       "      <td>[market, cap, swap, what, would, one, maiardex...</td>\n",
       "    </tr>\n",
       "    <tr>\n",
       "      <th>31</th>\n",
       "      <td>2023-03-01 23:56:40</td>\n",
       "      <td>#binancecoin price update: $bnb\\n\\n#bnb $302.9...</td>\n",
       "      <td>binancecoin price update bnb bnb usd bitcoin b...</td>\n",
       "      <td>[binancecoin, price, update, bnb, bnb, usd, bi...</td>\n",
       "      <td>[binancecoin, price, updat, bnb, bnb, usd, bit...</td>\n",
       "    </tr>\n",
       "  </tbody>\n",
       "</table>\n",
       "</div>"
      ],
      "text/plain": [
       "                  date                                              tweet  \\\n",
       "66 2023-03-01 23:53:15  💰 market cap. swap 💰 what would one #maiar-dex...   \n",
       "31 2023-03-01 23:56:40  #binancecoin price update: $bnb\\n\\n#bnb $302.9...   \n",
       "\n",
       "                                          clean_tweet  \\\n",
       "66  market cap swap what would one maiardex mex co...   \n",
       "31  binancecoin price update bnb bnb usd bitcoin b...   \n",
       "\n",
       "                                               tokens  \\\n",
       "66  [market, cap, swap, what, would, one, maiardex...   \n",
       "31  [binancecoin, price, update, bnb, bnb, usd, bi...   \n",
       "\n",
       "                                              stemmed  \n",
       "66  [market, cap, swap, what, would, one, maiardex...  \n",
       "31  [binancecoin, price, updat, bnb, bnb, usd, bit...  "
      ]
     },
     "execution_count": 41,
     "metadata": {},
     "output_type": "execute_result"
    }
   ],
   "source": [
    "start= time.time()\n",
    "\n",
    "ps = PorterStemmer()\n",
    "df_tweet['stemmed'] = df_tweet['tokens'].apply(lambda x: [ps.stem(w) for w in x])\n",
    "\n",
    "end = time.time()\n",
    "\n",
    "print(\"stemming process: \", end-start)\n",
    "df_tweet.sample(2)"
   ]
  },
  {
   "cell_type": "markdown",
   "id": "476ff5bf",
   "metadata": {},
   "source": [
    "- #### Lemmatization:"
   ]
  },
  {
   "cell_type": "code",
   "execution_count": 42,
   "id": "ad76a994",
   "metadata": {},
   "outputs": [
    {
     "name": "stdout",
     "output_type": "stream",
     "text": [
      "Lemmatizing process:  0.005982637405395508\n"
     ]
    },
    {
     "data": {
      "text/html": [
       "<div>\n",
       "<style scoped>\n",
       "    .dataframe tbody tr th:only-of-type {\n",
       "        vertical-align: middle;\n",
       "    }\n",
       "\n",
       "    .dataframe tbody tr th {\n",
       "        vertical-align: top;\n",
       "    }\n",
       "\n",
       "    .dataframe thead th {\n",
       "        text-align: right;\n",
       "    }\n",
       "</style>\n",
       "<table border=\"1\" class=\"dataframe\">\n",
       "  <thead>\n",
       "    <tr style=\"text-align: right;\">\n",
       "      <th></th>\n",
       "      <th>date</th>\n",
       "      <th>tweet</th>\n",
       "      <th>clean_tweet</th>\n",
       "      <th>tokens</th>\n",
       "      <th>stemmed</th>\n",
       "      <th>lemmatized</th>\n",
       "    </tr>\n",
       "  </thead>\n",
       "  <tbody>\n",
       "    <tr>\n",
       "      <th>43</th>\n",
       "      <td>2023-03-01 23:56:04</td>\n",
       "      <td>phrozenkhaos found #bitcoin in a green vault a...</td>\n",
       "      <td>phrozenkhaos found bitcoin in a green vault at...</td>\n",
       "      <td>[phrozenkhaos, found, bitcoin, in, a, green, v...</td>\n",
       "      <td>[phrozenkhao, found, bitcoin, in, a, green, va...</td>\n",
       "      <td>[phrozenkhaos, found, bitcoin, in, a, green, v...</td>\n",
       "    </tr>\n",
       "    <tr>\n",
       "      <th>65</th>\n",
       "      <td>2023-03-01 23:53:26</td>\n",
       "      <td>this made me giggle because.... the u.s. doesn...</td>\n",
       "      <td>this made me giggle because the yous does not ...</td>\n",
       "      <td>[this, made, me, giggle, because, the, yous, d...</td>\n",
       "      <td>[thi, made, me, giggl, becaus, the, you, doe, ...</td>\n",
       "      <td>[this, made, me, giggle, because, the, yous, d...</td>\n",
       "    </tr>\n",
       "  </tbody>\n",
       "</table>\n",
       "</div>"
      ],
      "text/plain": [
       "                  date                                              tweet  \\\n",
       "43 2023-03-01 23:56:04  phrozenkhaos found #bitcoin in a green vault a...   \n",
       "65 2023-03-01 23:53:26  this made me giggle because.... the u.s. doesn...   \n",
       "\n",
       "                                          clean_tweet  \\\n",
       "43  phrozenkhaos found bitcoin in a green vault at...   \n",
       "65  this made me giggle because the yous does not ...   \n",
       "\n",
       "                                               tokens  \\\n",
       "43  [phrozenkhaos, found, bitcoin, in, a, green, v...   \n",
       "65  [this, made, me, giggle, because, the, yous, d...   \n",
       "\n",
       "                                              stemmed  \\\n",
       "43  [phrozenkhao, found, bitcoin, in, a, green, va...   \n",
       "65  [thi, made, me, giggl, becaus, the, you, doe, ...   \n",
       "\n",
       "                                           lemmatized  \n",
       "43  [phrozenkhaos, found, bitcoin, in, a, green, v...  \n",
       "65  [this, made, me, giggle, because, the, yous, d...  "
      ]
     },
     "execution_count": 42,
     "metadata": {},
     "output_type": "execute_result"
    }
   ],
   "source": [
    "\n",
    "\n",
    "start= time.time()\n",
    "\n",
    "lem= WordNetLemmatizer()\n",
    "df_tweet['lemmatized'] = df_tweet['tokens'].apply(lambda x: [lem.lemmatize(w) for w in x])\n",
    "\n",
    "end = time.time()\n",
    "print(\"Lemmatizing process: \", end-start) \n",
    "df_tweet.sample(2)"
   ]
  },
  {
   "cell_type": "markdown",
   "id": "3732367d",
   "metadata": {},
   "source": [
    "- #### Removing Stopwords:"
   ]
  },
  {
   "cell_type": "code",
   "execution_count": 43,
   "id": "533efcbb",
   "metadata": {},
   "outputs": [
    {
     "name": "stdout",
     "output_type": "stream",
     "text": [
      "0.0009975433349609375\n"
     ]
    },
    {
     "data": {
      "text/html": [
       "<div>\n",
       "<style scoped>\n",
       "    .dataframe tbody tr th:only-of-type {\n",
       "        vertical-align: middle;\n",
       "    }\n",
       "\n",
       "    .dataframe tbody tr th {\n",
       "        vertical-align: top;\n",
       "    }\n",
       "\n",
       "    .dataframe thead th {\n",
       "        text-align: right;\n",
       "    }\n",
       "</style>\n",
       "<table border=\"1\" class=\"dataframe\">\n",
       "  <thead>\n",
       "    <tr style=\"text-align: right;\">\n",
       "      <th></th>\n",
       "      <th>date</th>\n",
       "      <th>tweet</th>\n",
       "      <th>clean_tweet</th>\n",
       "      <th>tokens</th>\n",
       "      <th>stemmed</th>\n",
       "      <th>lemmatized</th>\n",
       "      <th>normalized_tokens</th>\n",
       "    </tr>\n",
       "  </thead>\n",
       "  <tbody>\n",
       "    <tr>\n",
       "      <th>68</th>\n",
       "      <td>2023-03-01 23:53:06</td>\n",
       "      <td>how often do you buy #bitcoin?</td>\n",
       "      <td>how often do you buy bitcoin</td>\n",
       "      <td>[how, often, do, you, buy, bitcoin]</td>\n",
       "      <td>[how, often, do, you, buy, bitcoin]</td>\n",
       "      <td>[how, often, do, you, buy, bitcoin]</td>\n",
       "      <td>often buy bitcoin</td>\n",
       "    </tr>\n",
       "    <tr>\n",
       "      <th>69</th>\n",
       "      <td>2023-03-01 23:53:03</td>\n",
       "      <td>🟩 block 778891 ⛏ ⛏\\n\\n📅 1st mar 2023, 23:52:15...</td>\n",
       "      <td>block 1st mar gmt tx with a value of ₿ 10284m ...</td>\n",
       "      <td>[block, 1st, mar, gmt, tx, with, a, value, of,...</td>\n",
       "      <td>[block, 1st, mar, gmt, tx, with, a, valu, of, ...</td>\n",
       "      <td>[block, 1st, mar, gmt, tx, with, a, value, of,...</td>\n",
       "      <td>block 1st mar gmt tx value ₿ 10284m distribute...</td>\n",
       "    </tr>\n",
       "    <tr>\n",
       "      <th>43</th>\n",
       "      <td>2023-03-01 23:56:04</td>\n",
       "      <td>phrozenkhaos found #bitcoin in a green vault a...</td>\n",
       "      <td>phrozenkhaos found bitcoin in a green vault at...</td>\n",
       "      <td>[phrozenkhaos, found, bitcoin, in, a, green, v...</td>\n",
       "      <td>[phrozenkhao, found, bitcoin, in, a, green, va...</td>\n",
       "      <td>[phrozenkhaos, found, bitcoin, in, a, green, v...</td>\n",
       "      <td>phrozenkhaos found bitcoin green vault locatio...</td>\n",
       "    </tr>\n",
       "  </tbody>\n",
       "</table>\n",
       "</div>"
      ],
      "text/plain": [
       "                  date                                              tweet  \\\n",
       "68 2023-03-01 23:53:06                     how often do you buy #bitcoin?   \n",
       "69 2023-03-01 23:53:03  🟩 block 778891 ⛏ ⛏\\n\\n📅 1st mar 2023, 23:52:15...   \n",
       "43 2023-03-01 23:56:04  phrozenkhaos found #bitcoin in a green vault a...   \n",
       "\n",
       "                                          clean_tweet  \\\n",
       "68                       how often do you buy bitcoin   \n",
       "69  block 1st mar gmt tx with a value of ₿ 10284m ...   \n",
       "43  phrozenkhaos found bitcoin in a green vault at...   \n",
       "\n",
       "                                               tokens  \\\n",
       "68                [how, often, do, you, buy, bitcoin]   \n",
       "69  [block, 1st, mar, gmt, tx, with, a, value, of,...   \n",
       "43  [phrozenkhaos, found, bitcoin, in, a, green, v...   \n",
       "\n",
       "                                              stemmed  \\\n",
       "68                [how, often, do, you, buy, bitcoin]   \n",
       "69  [block, 1st, mar, gmt, tx, with, a, valu, of, ...   \n",
       "43  [phrozenkhao, found, bitcoin, in, a, green, va...   \n",
       "\n",
       "                                           lemmatized  \\\n",
       "68                [how, often, do, you, buy, bitcoin]   \n",
       "69  [block, 1st, mar, gmt, tx, with, a, value, of,...   \n",
       "43  [phrozenkhaos, found, bitcoin, in, a, green, v...   \n",
       "\n",
       "                                    normalized_tokens  \n",
       "68                                  often buy bitcoin  \n",
       "69  block 1st mar gmt tx value ₿ 10284m distribute...  \n",
       "43  phrozenkhaos found bitcoin green vault locatio...  "
      ]
     },
     "execution_count": 43,
     "metadata": {},
     "output_type": "execute_result"
    }
   ],
   "source": [
    "#Remove stopwords\n",
    "\n",
    "start = time.time()\n",
    "\n",
    "df_tweet['normalized_tokens'] = df_tweet['lemmatized'].apply(lambda x :\" \".join ([word for word in x if word not in stop_words]))\n",
    "\n",
    "end = time.time()\n",
    "print(end-start)    \n",
    "\n",
    "\n",
    "df_tweet.sample(3)\n"
   ]
  },
  {
   "cell_type": "markdown",
   "id": "8dbb7189",
   "metadata": {},
   "source": [
    "#### - Save clean tweet"
   ]
  },
  {
   "cell_type": "code",
   "execution_count": 44,
   "id": "23f67a5b",
   "metadata": {},
   "outputs": [],
   "source": [
    "df_tweet.to_csv(file+'clean_tweet_kaggledataset.csv',index = False)"
   ]
  },
  {
   "cell_type": "code",
   "execution_count": 45,
   "id": "e058a6b4",
   "metadata": {},
   "outputs": [
    {
     "data": {
      "text/html": [
       "<div>\n",
       "<style scoped>\n",
       "    .dataframe tbody tr th:only-of-type {\n",
       "        vertical-align: middle;\n",
       "    }\n",
       "\n",
       "    .dataframe tbody tr th {\n",
       "        vertical-align: top;\n",
       "    }\n",
       "\n",
       "    .dataframe thead th {\n",
       "        text-align: right;\n",
       "    }\n",
       "</style>\n",
       "<table border=\"1\" class=\"dataframe\">\n",
       "  <thead>\n",
       "    <tr style=\"text-align: right;\">\n",
       "      <th></th>\n",
       "      <th>date</th>\n",
       "      <th>tweet</th>\n",
       "      <th>clean_tweet</th>\n",
       "      <th>tokens</th>\n",
       "      <th>stemmed</th>\n",
       "      <th>lemmatized</th>\n",
       "      <th>normalized_tokens</th>\n",
       "    </tr>\n",
       "  </thead>\n",
       "  <tbody>\n",
       "    <tr>\n",
       "      <th>0</th>\n",
       "      <td>2023-03-01 23:59:59</td>\n",
       "      <td>which #bitcoin books should i think about read...</td>\n",
       "      <td>which bitcoin books should i think about readi...</td>\n",
       "      <td>['which', 'bitcoin', 'books', 'should', 'i', '...</td>\n",
       "      <td>['which', 'bitcoin', 'book', 'should', 'i', 't...</td>\n",
       "      <td>['which', 'bitcoin', 'book', 'should', 'i', 't...</td>\n",
       "      <td>bitcoin book think reading next</td>\n",
       "    </tr>\n",
       "    <tr>\n",
       "      <th>1</th>\n",
       "      <td>2023-03-01 23:59:47</td>\n",
       "      <td>@thankgodforbtc i appreciate the message, but ...</td>\n",
       "      <td>i appreciate the message but not a fan of the ...</td>\n",
       "      <td>['i', 'appreciate', 'the', 'message', 'but', '...</td>\n",
       "      <td>['i', 'appreci', 'the', 'messag', 'but', 'not'...</td>\n",
       "      <td>['i', 'appreciate', 'the', 'message', 'but', '...</td>\n",
       "      <td>appreciate message not fan religious reference...</td>\n",
       "    </tr>\n",
       "  </tbody>\n",
       "</table>\n",
       "</div>"
      ],
      "text/plain": [
       "                  date                                              tweet  \\\n",
       "0  2023-03-01 23:59:59  which #bitcoin books should i think about read...   \n",
       "1  2023-03-01 23:59:47  @thankgodforbtc i appreciate the message, but ...   \n",
       "\n",
       "                                         clean_tweet  \\\n",
       "0  which bitcoin books should i think about readi...   \n",
       "1  i appreciate the message but not a fan of the ...   \n",
       "\n",
       "                                              tokens  \\\n",
       "0  ['which', 'bitcoin', 'books', 'should', 'i', '...   \n",
       "1  ['i', 'appreciate', 'the', 'message', 'but', '...   \n",
       "\n",
       "                                             stemmed  \\\n",
       "0  ['which', 'bitcoin', 'book', 'should', 'i', 't...   \n",
       "1  ['i', 'appreci', 'the', 'messag', 'but', 'not'...   \n",
       "\n",
       "                                          lemmatized  \\\n",
       "0  ['which', 'bitcoin', 'book', 'should', 'i', 't...   \n",
       "1  ['i', 'appreciate', 'the', 'message', 'but', '...   \n",
       "\n",
       "                                   normalized_tokens  \n",
       "0                    bitcoin book think reading next  \n",
       "1  appreciate message not fan religious reference...  "
      ]
     },
     "execution_count": 45,
     "metadata": {},
     "output_type": "execute_result"
    }
   ],
   "source": [
    "df = pd.read_csv(file+'clean_tweet_kaggledataset.csv')\n",
    "clean_tweet = df.copy()\n",
    "clean_tweet.head(2)"
   ]
  },
  {
   "cell_type": "markdown",
   "id": "8af2bff9",
   "metadata": {},
   "source": [
    "- #### Filter Non-English tweets"
   ]
  },
  {
   "cell_type": "code",
   "execution_count": 46,
   "id": "2db0acc1",
   "metadata": {},
   "outputs": [
    {
     "name": "stdout",
     "output_type": "stream",
     "text": [
      "language detection process:  0.7462854385375977\n"
     ]
    }
   ],
   "source": [
    "# function for language detection will be applied to all tweets\n",
    "\n",
    "from langdetect import detect\n",
    "lang = []\n",
    "sentence = ''\n",
    "def find_lang(data):\n",
    "    try:\n",
    "        sentence = detect(data)\n",
    "    except:\n",
    "        sentence = 'unknown'\n",
    "    return sentence\n",
    "start = time.time()\n",
    "clean_tweet['lang'] = clean_tweet['tweet'].apply(lambda x: find_lang(x))\n",
    "end = time.time()\n",
    "\n",
    "print(\"language detection process: \", end-start)"
   ]
  },
  {
   "cell_type": "code",
   "execution_count": 47,
   "id": "8ad3cd82",
   "metadata": {},
   "outputs": [
    {
     "data": {
      "text/html": [
       "<div>\n",
       "<style scoped>\n",
       "    .dataframe tbody tr th:only-of-type {\n",
       "        vertical-align: middle;\n",
       "    }\n",
       "\n",
       "    .dataframe tbody tr th {\n",
       "        vertical-align: top;\n",
       "    }\n",
       "\n",
       "    .dataframe thead th {\n",
       "        text-align: right;\n",
       "    }\n",
       "</style>\n",
       "<table border=\"1\" class=\"dataframe\">\n",
       "  <thead>\n",
       "    <tr style=\"text-align: right;\">\n",
       "      <th></th>\n",
       "      <th>date</th>\n",
       "      <th>tweet</th>\n",
       "      <th>clean_tweet</th>\n",
       "      <th>tokens</th>\n",
       "      <th>stemmed</th>\n",
       "      <th>lemmatized</th>\n",
       "      <th>normalized_tokens</th>\n",
       "      <th>lang</th>\n",
       "    </tr>\n",
       "  </thead>\n",
       "  <tbody>\n",
       "    <tr>\n",
       "      <th>0</th>\n",
       "      <td>2023-03-01 23:59:59</td>\n",
       "      <td>which #bitcoin books should i think about read...</td>\n",
       "      <td>which bitcoin books should i think about readi...</td>\n",
       "      <td>['which', 'bitcoin', 'books', 'should', 'i', '...</td>\n",
       "      <td>['which', 'bitcoin', 'book', 'should', 'i', 't...</td>\n",
       "      <td>['which', 'bitcoin', 'book', 'should', 'i', 't...</td>\n",
       "      <td>bitcoin book think reading next</td>\n",
       "      <td>en</td>\n",
       "    </tr>\n",
       "    <tr>\n",
       "      <th>1</th>\n",
       "      <td>2023-03-01 23:59:47</td>\n",
       "      <td>@thankgodforbtc i appreciate the message, but ...</td>\n",
       "      <td>i appreciate the message but not a fan of the ...</td>\n",
       "      <td>['i', 'appreciate', 'the', 'message', 'but', '...</td>\n",
       "      <td>['i', 'appreci', 'the', 'messag', 'but', 'not'...</td>\n",
       "      <td>['i', 'appreciate', 'the', 'message', 'but', '...</td>\n",
       "      <td>appreciate message not fan religious reference...</td>\n",
       "      <td>en</td>\n",
       "    </tr>\n",
       "  </tbody>\n",
       "</table>\n",
       "</div>"
      ],
      "text/plain": [
       "                  date                                              tweet  \\\n",
       "0  2023-03-01 23:59:59  which #bitcoin books should i think about read...   \n",
       "1  2023-03-01 23:59:47  @thankgodforbtc i appreciate the message, but ...   \n",
       "\n",
       "                                         clean_tweet  \\\n",
       "0  which bitcoin books should i think about readi...   \n",
       "1  i appreciate the message but not a fan of the ...   \n",
       "\n",
       "                                              tokens  \\\n",
       "0  ['which', 'bitcoin', 'books', 'should', 'i', '...   \n",
       "1  ['i', 'appreciate', 'the', 'message', 'but', '...   \n",
       "\n",
       "                                             stemmed  \\\n",
       "0  ['which', 'bitcoin', 'book', 'should', 'i', 't...   \n",
       "1  ['i', 'appreci', 'the', 'messag', 'but', 'not'...   \n",
       "\n",
       "                                          lemmatized  \\\n",
       "0  ['which', 'bitcoin', 'book', 'should', 'i', 't...   \n",
       "1  ['i', 'appreciate', 'the', 'message', 'but', '...   \n",
       "\n",
       "                                   normalized_tokens lang  \n",
       "0                    bitcoin book think reading next   en  \n",
       "1  appreciate message not fan religious reference...   en  "
      ]
     },
     "execution_count": 47,
     "metadata": {},
     "output_type": "execute_result"
    }
   ],
   "source": [
    "clean_tweet.to_csv(file+'clean_tweet_lan_kaggledataset.csv',index = False)\n",
    "clean_tweet = pd.read_csv(file+'clean_tweet_lan_kaggledataset.csv')\n",
    "clean_tweet_lang = clean_tweet.copy()\n",
    "clean_tweet_lang.head(2)"
   ]
  },
  {
   "cell_type": "code",
   "execution_count": 48,
   "id": "b49cc66d",
   "metadata": {},
   "outputs": [
    {
     "name": "stdout",
     "output_type": "stream",
     "text": [
      "<class 'pandas.core.frame.DataFrame'>\n",
      "RangeIndex: 100 entries, 0 to 99\n",
      "Data columns (total 8 columns):\n",
      " #   Column             Non-Null Count  Dtype \n",
      "---  ------             --------------  ----- \n",
      " 0   date               100 non-null    object\n",
      " 1   tweet              100 non-null    object\n",
      " 2   clean_tweet        100 non-null    object\n",
      " 3   tokens             100 non-null    object\n",
      " 4   stemmed            100 non-null    object\n",
      " 5   lemmatized         100 non-null    object\n",
      " 6   normalized_tokens  100 non-null    object\n",
      " 7   lang               100 non-null    object\n",
      "dtypes: object(8)\n",
      "memory usage: 6.4+ KB\n"
     ]
    }
   ],
   "source": [
    "clean_tweet_lang.info()"
   ]
  },
  {
   "cell_type": "markdown",
   "id": "b6c80410",
   "metadata": {},
   "source": [
    "### - Drop empty tokens"
   ]
  },
  {
   "cell_type": "code",
   "execution_count": 49,
   "id": "066396f3",
   "metadata": {},
   "outputs": [],
   "source": [
    "clean_tweet_lang = clean_tweet_lang.dropna(subset='normalized_tokens')"
   ]
  },
  {
   "cell_type": "code",
   "execution_count": 50,
   "id": "523b7332",
   "metadata": {},
   "outputs": [
    {
     "data": {
      "text/html": [
       "<div>\n",
       "<style scoped>\n",
       "    .dataframe tbody tr th:only-of-type {\n",
       "        vertical-align: middle;\n",
       "    }\n",
       "\n",
       "    .dataframe tbody tr th {\n",
       "        vertical-align: top;\n",
       "    }\n",
       "\n",
       "    .dataframe thead th {\n",
       "        text-align: right;\n",
       "    }\n",
       "</style>\n",
       "<table border=\"1\" class=\"dataframe\">\n",
       "  <thead>\n",
       "    <tr style=\"text-align: right;\">\n",
       "      <th></th>\n",
       "      <th>date</th>\n",
       "      <th>tweet</th>\n",
       "      <th>clean_tweet</th>\n",
       "      <th>tokens</th>\n",
       "      <th>stemmed</th>\n",
       "      <th>lemmatized</th>\n",
       "      <th>normalized_tokens</th>\n",
       "      <th>lang</th>\n",
       "    </tr>\n",
       "  </thead>\n",
       "  <tbody>\n",
       "  </tbody>\n",
       "</table>\n",
       "</div>"
      ],
      "text/plain": [
       "Empty DataFrame\n",
       "Columns: [date, tweet, clean_tweet, tokens, stemmed, lemmatized, normalized_tokens, lang]\n",
       "Index: []"
      ]
     },
     "execution_count": 50,
     "metadata": {},
     "output_type": "execute_result"
    }
   ],
   "source": [
    "clean_tweet_lang[clean_tweet_lang.normalized_tokens.isnull()]"
   ]
  },
  {
   "cell_type": "markdown",
   "id": "33cf1c6e",
   "metadata": {},
   "source": [
    "### - Top 10 tweet languages"
   ]
  },
  {
   "cell_type": "code",
   "execution_count": 51,
   "id": "30ece896",
   "metadata": {},
   "outputs": [
    {
     "data": {
      "text/plain": [
       "en    98\n",
       "cy     1\n",
       "it     1\n",
       "Name: lang, dtype: int64"
      ]
     },
     "execution_count": 51,
     "metadata": {},
     "output_type": "execute_result"
    }
   ],
   "source": [
    "clean_tweet.lang.value_counts()[:9]"
   ]
  },
  {
   "cell_type": "markdown",
   "id": "d1eb8dc8",
   "metadata": {},
   "source": [
    "### - Filter only english tweets"
   ]
  },
  {
   "cell_type": "code",
   "execution_count": 52,
   "id": "e1e8c782",
   "metadata": {},
   "outputs": [],
   "source": [
    "df_clean_filtered_tweet = clean_tweet_lang[clean_tweet_lang['lang']=='en']"
   ]
  },
  {
   "cell_type": "code",
   "execution_count": 53,
   "id": "af1efa46",
   "metadata": {},
   "outputs": [
    {
     "data": {
      "text/html": [
       "<div>\n",
       "<style scoped>\n",
       "    .dataframe tbody tr th:only-of-type {\n",
       "        vertical-align: middle;\n",
       "    }\n",
       "\n",
       "    .dataframe tbody tr th {\n",
       "        vertical-align: top;\n",
       "    }\n",
       "\n",
       "    .dataframe thead th {\n",
       "        text-align: right;\n",
       "    }\n",
       "</style>\n",
       "<table border=\"1\" class=\"dataframe\">\n",
       "  <thead>\n",
       "    <tr style=\"text-align: right;\">\n",
       "      <th></th>\n",
       "      <th>date</th>\n",
       "      <th>tweet</th>\n",
       "      <th>clean_tweet</th>\n",
       "      <th>tokens</th>\n",
       "      <th>stemmed</th>\n",
       "      <th>lemmatized</th>\n",
       "      <th>normalized_tokens</th>\n",
       "      <th>lang</th>\n",
       "    </tr>\n",
       "  </thead>\n",
       "  <tbody>\n",
       "    <tr>\n",
       "      <th>0</th>\n",
       "      <td>2023-03-01 23:59:59</td>\n",
       "      <td>which #bitcoin books should i think about read...</td>\n",
       "      <td>which bitcoin books should i think about readi...</td>\n",
       "      <td>['which', 'bitcoin', 'books', 'should', 'i', '...</td>\n",
       "      <td>['which', 'bitcoin', 'book', 'should', 'i', 't...</td>\n",
       "      <td>['which', 'bitcoin', 'book', 'should', 'i', 't...</td>\n",
       "      <td>bitcoin book think reading next</td>\n",
       "      <td>en</td>\n",
       "    </tr>\n",
       "    <tr>\n",
       "      <th>1</th>\n",
       "      <td>2023-03-01 23:59:47</td>\n",
       "      <td>@thankgodforbtc i appreciate the message, but ...</td>\n",
       "      <td>i appreciate the message but not a fan of the ...</td>\n",
       "      <td>['i', 'appreciate', 'the', 'message', 'but', '...</td>\n",
       "      <td>['i', 'appreci', 'the', 'messag', 'but', 'not'...</td>\n",
       "      <td>['i', 'appreciate', 'the', 'message', 'but', '...</td>\n",
       "      <td>appreciate message not fan religious reference...</td>\n",
       "      <td>en</td>\n",
       "    </tr>\n",
       "  </tbody>\n",
       "</table>\n",
       "</div>"
      ],
      "text/plain": [
       "                  date                                              tweet  \\\n",
       "0  2023-03-01 23:59:59  which #bitcoin books should i think about read...   \n",
       "1  2023-03-01 23:59:47  @thankgodforbtc i appreciate the message, but ...   \n",
       "\n",
       "                                         clean_tweet  \\\n",
       "0  which bitcoin books should i think about readi...   \n",
       "1  i appreciate the message but not a fan of the ...   \n",
       "\n",
       "                                              tokens  \\\n",
       "0  ['which', 'bitcoin', 'books', 'should', 'i', '...   \n",
       "1  ['i', 'appreciate', 'the', 'message', 'but', '...   \n",
       "\n",
       "                                             stemmed  \\\n",
       "0  ['which', 'bitcoin', 'book', 'should', 'i', 't...   \n",
       "1  ['i', 'appreci', 'the', 'messag', 'but', 'not'...   \n",
       "\n",
       "                                          lemmatized  \\\n",
       "0  ['which', 'bitcoin', 'book', 'should', 'i', 't...   \n",
       "1  ['i', 'appreciate', 'the', 'message', 'but', '...   \n",
       "\n",
       "                                   normalized_tokens lang  \n",
       "0                    bitcoin book think reading next   en  \n",
       "1  appreciate message not fan religious reference...   en  "
      ]
     },
     "execution_count": 53,
     "metadata": {},
     "output_type": "execute_result"
    }
   ],
   "source": [
    "df_clean_filtered_tweet.head(2)"
   ]
  },
  {
   "cell_type": "code",
   "execution_count": 54,
   "id": "00513629",
   "metadata": {},
   "outputs": [],
   "source": [
    "df_clean_filtered_tweet.to_csv(file+'clean_tweet_eng_kaggledataset.csv',index = False)"
   ]
  },
  {
   "cell_type": "code",
   "execution_count": 55,
   "id": "d5aecd65",
   "metadata": {},
   "outputs": [
    {
     "data": {
      "text/html": [
       "<div>\n",
       "<style scoped>\n",
       "    .dataframe tbody tr th:only-of-type {\n",
       "        vertical-align: middle;\n",
       "    }\n",
       "\n",
       "    .dataframe tbody tr th {\n",
       "        vertical-align: top;\n",
       "    }\n",
       "\n",
       "    .dataframe thead th {\n",
       "        text-align: right;\n",
       "    }\n",
       "</style>\n",
       "<table border=\"1\" class=\"dataframe\">\n",
       "  <thead>\n",
       "    <tr style=\"text-align: right;\">\n",
       "      <th></th>\n",
       "      <th>date</th>\n",
       "      <th>normalized_tokens</th>\n",
       "    </tr>\n",
       "  </thead>\n",
       "  <tbody>\n",
       "    <tr>\n",
       "      <th>0</th>\n",
       "      <td>2023-03-01 23:59:59</td>\n",
       "      <td>bitcoin book think reading next</td>\n",
       "    </tr>\n",
       "    <tr>\n",
       "      <th>1</th>\n",
       "      <td>2023-03-01 23:59:47</td>\n",
       "      <td>appreciate message not fan religious reference...</td>\n",
       "    </tr>\n",
       "  </tbody>\n",
       "</table>\n",
       "</div>"
      ],
      "text/plain": [
       "                  date                                  normalized_tokens\n",
       "0  2023-03-01 23:59:59                    bitcoin book think reading next\n",
       "1  2023-03-01 23:59:47  appreciate message not fan religious reference..."
      ]
     },
     "execution_count": 55,
     "metadata": {},
     "output_type": "execute_result"
    }
   ],
   "source": [
    "clean_tweet_en = df_clean_filtered_tweet.copy()\n",
    "clean_tweet_en = clean_tweet_en.drop(['tweet', 'clean_tweet', 'tokens', 'stemmed', 'lemmatized','lang'], axis=1)\n",
    "clean_tweet_en.head(2)"
   ]
  },
  {
   "cell_type": "code",
   "execution_count": 56,
   "id": "4a7ffbc2",
   "metadata": {},
   "outputs": [
    {
     "name": "stdout",
     "output_type": "stream",
     "text": [
      "Processed english tweet data size :  98\n"
     ]
    }
   ],
   "source": [
    "print(\"Processed english tweet data size : \", len(clean_tweet_en))"
   ]
  },
  {
   "cell_type": "markdown",
   "id": "3fb4a55c",
   "metadata": {},
   "source": [
    "# 2. Sentiment Analysis:"
   ]
  },
  {
   "cell_type": "markdown",
   "id": "564ba6d6",
   "metadata": {},
   "source": [
    "Tweets sentiment analysis will be performed with unsupervised learning model Textblob. Polarity (-1,1) and Subjectivity (0,1) scores will be created for each normalized_token tweets\n",
    "\n",
    "*The deep learning NLP Bert model is also considered to use for sentiment analysis however was not performed in this study due to slower processing power"
   ]
  },
  {
   "cell_type": "code",
   "execution_count": 57,
   "id": "4e328578",
   "metadata": {},
   "outputs": [
    {
     "name": "stdout",
     "output_type": "stream",
     "text": [
      "Sentiment Analysis pocess : 0.058785438537597656\n"
     ]
    },
    {
     "data": {
      "text/html": [
       "<div>\n",
       "<style scoped>\n",
       "    .dataframe tbody tr th:only-of-type {\n",
       "        vertical-align: middle;\n",
       "    }\n",
       "\n",
       "    .dataframe tbody tr th {\n",
       "        vertical-align: top;\n",
       "    }\n",
       "\n",
       "    .dataframe thead th {\n",
       "        text-align: right;\n",
       "    }\n",
       "</style>\n",
       "<table border=\"1\" class=\"dataframe\">\n",
       "  <thead>\n",
       "    <tr style=\"text-align: right;\">\n",
       "      <th></th>\n",
       "      <th>date</th>\n",
       "      <th>normalized_tokens</th>\n",
       "      <th>subjectivity</th>\n",
       "      <th>polarity</th>\n",
       "      <th>sentiments</th>\n",
       "    </tr>\n",
       "  </thead>\n",
       "  <tbody>\n",
       "    <tr>\n",
       "      <th>9</th>\n",
       "      <td>2023-03-01 23:59:08</td>\n",
       "      <td>first bitcoin halving age humble time</td>\n",
       "      <td>0.366667</td>\n",
       "      <td>0.025</td>\n",
       "      <td>Positive</td>\n",
       "    </tr>\n",
       "    <tr>\n",
       "      <th>21</th>\n",
       "      <td>2023-03-01 23:57:37</td>\n",
       "      <td>bitcoin fun fact period day red candle monthly...</td>\n",
       "      <td>0.100000</td>\n",
       "      <td>0.150</td>\n",
       "      <td>Positive</td>\n",
       "    </tr>\n",
       "    <tr>\n",
       "      <th>54</th>\n",
       "      <td>2023-03-01 23:54:38</td>\n",
       "      <td>bitcoin next sanrio link crypto cryptoart cryp...</td>\n",
       "      <td>0.000000</td>\n",
       "      <td>0.000</td>\n",
       "      <td>Neutral</td>\n",
       "    </tr>\n",
       "  </tbody>\n",
       "</table>\n",
       "</div>"
      ],
      "text/plain": [
       "                   date                                  normalized_tokens  \\\n",
       "9   2023-03-01 23:59:08              first bitcoin halving age humble time   \n",
       "21  2023-03-01 23:57:37  bitcoin fun fact period day red candle monthly...   \n",
       "54  2023-03-01 23:54:38  bitcoin next sanrio link crypto cryptoart cryp...   \n",
       "\n",
       "    subjectivity  polarity sentiments  \n",
       "9       0.366667     0.025   Positive  \n",
       "21      0.100000     0.150   Positive  \n",
       "54      0.000000     0.000    Neutral  "
      ]
     },
     "execution_count": 57,
     "metadata": {},
     "output_type": "execute_result"
    }
   ],
   "source": [
    "#TEXT BLOB\n",
    "\n",
    "#Create a function to get the subjectivity\n",
    "def getSubjectivity(text):\n",
    "    return TextBlob(text).sentiment.subjectivity\n",
    "\n",
    "#Create a function to get the polarity\n",
    "def getPolarity(text):\n",
    "    return TextBlob(text).sentiment.polarity\n",
    "\n",
    "#Create a function to get sentiments based on polarity score\n",
    "\n",
    "def getSentiments(score):\n",
    "    if score < 0:\n",
    "        return \"Negative\"\n",
    "    elif score == 0:\n",
    "        return \"Neutral\"\n",
    "    else:\n",
    "        return \"Positive\"\n",
    "\n",
    "start= time.time()\n",
    "#Text_Blob subjectivity score    \n",
    "clean_tweet_en['subjectivity'] = clean_tweet_en['normalized_tokens'].apply(lambda x: getSubjectivity(x)) #\n",
    "#Text_Blob polarity score\n",
    "clean_tweet_en['polarity'] = clean_tweet_en['normalized_tokens'].apply(getPolarity)\n",
    "#Sentiments based on polarity score\n",
    "clean_tweet_en['sentiments'] = clean_tweet_en['polarity'].apply(getSentiments )\n",
    "end = time.time()\n",
    "print(\"Sentiment Analysis pocess :\", end-start)\n",
    "clean_tweet_en.sample(3)"
   ]
  },
  {
   "cell_type": "code",
   "execution_count": 58,
   "id": "ac36943e",
   "metadata": {},
   "outputs": [],
   "source": [
    "df_tweet_sentiments = clean_tweet_en.copy()"
   ]
  },
  {
   "cell_type": "markdown",
   "id": "02638b5e",
   "metadata": {},
   "source": [
    "#### - Save normalized english tokens data"
   ]
  },
  {
   "cell_type": "code",
   "execution_count": 59,
   "id": "7029641d",
   "metadata": {},
   "outputs": [
    {
     "data": {
      "text/html": [
       "<div>\n",
       "<style scoped>\n",
       "    .dataframe tbody tr th:only-of-type {\n",
       "        vertical-align: middle;\n",
       "    }\n",
       "\n",
       "    .dataframe tbody tr th {\n",
       "        vertical-align: top;\n",
       "    }\n",
       "\n",
       "    .dataframe thead th {\n",
       "        text-align: right;\n",
       "    }\n",
       "</style>\n",
       "<table border=\"1\" class=\"dataframe\">\n",
       "  <thead>\n",
       "    <tr style=\"text-align: right;\">\n",
       "      <th></th>\n",
       "      <th>date</th>\n",
       "      <th>normalized_tokens</th>\n",
       "      <th>subjectivity</th>\n",
       "      <th>polarity</th>\n",
       "      <th>sentiments</th>\n",
       "    </tr>\n",
       "  </thead>\n",
       "  <tbody>\n",
       "    <tr>\n",
       "      <th>0</th>\n",
       "      <td>2023-03-01 23:59:59</td>\n",
       "      <td>bitcoin book think reading next</td>\n",
       "      <td>0.00</td>\n",
       "      <td>0.0</td>\n",
       "      <td>Neutral</td>\n",
       "    </tr>\n",
       "    <tr>\n",
       "      <th>1</th>\n",
       "      <td>2023-03-01 23:59:47</td>\n",
       "      <td>appreciate message not fan religious reference...</td>\n",
       "      <td>0.25</td>\n",
       "      <td>0.0</td>\n",
       "      <td>Neutral</td>\n",
       "    </tr>\n",
       "  </tbody>\n",
       "</table>\n",
       "</div>"
      ],
      "text/plain": [
       "                  date                                  normalized_tokens  \\\n",
       "0  2023-03-01 23:59:59                    bitcoin book think reading next   \n",
       "1  2023-03-01 23:59:47  appreciate message not fan religious reference...   \n",
       "\n",
       "   subjectivity  polarity sentiments  \n",
       "0          0.00       0.0    Neutral  \n",
       "1          0.25       0.0    Neutral  "
      ]
     },
     "execution_count": 59,
     "metadata": {},
     "output_type": "execute_result"
    }
   ],
   "source": [
    "clean_tweet_en.to_csv(file+'clean_tweet_eng_sentiments_kaggledataset.csv',index = False)\n",
    "df_tweet_sentiments = pd.read_csv(file+'clean_tweet_eng_sentiments_kaggledataset.csv')\n",
    "processed_tweet = df_tweet_sentiments.copy()\n",
    "processed_tweet.head(2)"
   ]
  },
  {
   "cell_type": "markdown",
   "id": "56991938",
   "metadata": {},
   "source": [
    "#### - Distribution of sentiments"
   ]
  },
  {
   "cell_type": "code",
   "execution_count": 60,
   "id": "bd956903",
   "metadata": {},
   "outputs": [
    {
     "data": {
      "text/plain": [
       "Neutral     55\n",
       "Positive    35\n",
       "Negative     8\n",
       "Name: sentiments, dtype: int64"
      ]
     },
     "execution_count": 60,
     "metadata": {},
     "output_type": "execute_result"
    }
   ],
   "source": [
    "processed_tweet.sentiments.value_counts()"
   ]
  },
  {
   "cell_type": "code",
   "execution_count": 61,
   "id": "2534ea68",
   "metadata": {},
   "outputs": [
    {
     "data": {
      "text/plain": [
       "<BarContainer object of 3 artists>"
      ]
     },
     "execution_count": 61,
     "metadata": {},
     "output_type": "execute_result"
    },
    {
     "data": {
      "image/png": "[encoded data removed]",
      "text/plain": [
       "<Figure size 640x480 with 1 Axes>"
      ]
     },
     "metadata": {},
     "output_type": "display_data"
    }
   ],
   "source": [
    "plt.bar(processed_tweet.sentiments.value_counts().index,processed_tweet.sentiments.value_counts())"
   ]
  },
  {
   "cell_type": "code",
   "execution_count": 62,
   "id": "2fecdb79",
   "metadata": {},
   "outputs": [
    {
     "name": "stdout",
     "output_type": "stream",
     "text": [
      "<class 'pandas.core.frame.DataFrame'>\n",
      "RangeIndex: 98 entries, 0 to 97\n",
      "Data columns (total 5 columns):\n",
      " #   Column             Non-Null Count  Dtype  \n",
      "---  ------             --------------  -----  \n",
      " 0   date               98 non-null     object \n",
      " 1   normalized_tokens  98 non-null     object \n",
      " 2   subjectivity       98 non-null     float64\n",
      " 3   polarity           98 non-null     float64\n",
      " 4   sentiments         98 non-null     object \n",
      "dtypes: float64(2), object(3)\n",
      "memory usage: 4.0+ KB\n"
     ]
    }
   ],
   "source": [
    "processed_tweet.info()"
   ]
  },
  {
   "cell_type": "code",
   "execution_count": 63,
   "id": "55ca7d7c",
   "metadata": {},
   "outputs": [
    {
     "data": {
      "text/html": [
       "<div>\n",
       "<style scoped>\n",
       "    .dataframe tbody tr th:only-of-type {\n",
       "        vertical-align: middle;\n",
       "    }\n",
       "\n",
       "    .dataframe tbody tr th {\n",
       "        vertical-align: top;\n",
       "    }\n",
       "\n",
       "    .dataframe thead th {\n",
       "        text-align: right;\n",
       "    }\n",
       "</style>\n",
       "<table border=\"1\" class=\"dataframe\">\n",
       "  <thead>\n",
       "    <tr style=\"text-align: right;\">\n",
       "      <th></th>\n",
       "      <th>date</th>\n",
       "      <th>normalized_tokens</th>\n",
       "      <th>subjectivity</th>\n",
       "      <th>polarity</th>\n",
       "      <th>sentiments</th>\n",
       "    </tr>\n",
       "  </thead>\n",
       "  <tbody>\n",
       "    <tr>\n",
       "      <th>0</th>\n",
       "      <td>2023-03-01 23:59:59</td>\n",
       "      <td>bitcoin book think reading next</td>\n",
       "      <td>0.00</td>\n",
       "      <td>0.00</td>\n",
       "      <td>Neutral</td>\n",
       "    </tr>\n",
       "    <tr>\n",
       "      <th>1</th>\n",
       "      <td>2023-03-01 23:59:47</td>\n",
       "      <td>appreciate message not fan religious reference...</td>\n",
       "      <td>0.25</td>\n",
       "      <td>0.00</td>\n",
       "      <td>Neutral</td>\n",
       "    </tr>\n",
       "    <tr>\n",
       "      <th>2</th>\n",
       "      <td>2023-03-01 23:59:42</td>\n",
       "      <td>ethereum price update eth usd bitcoin btc foll...</td>\n",
       "      <td>0.25</td>\n",
       "      <td>0.00</td>\n",
       "      <td>Neutral</td>\n",
       "    </tr>\n",
       "    <tr>\n",
       "      <th>3</th>\n",
       "      <td>2023-03-01 23:59:36</td>\n",
       "      <td>coindashboard v30 available io android bitcoin</td>\n",
       "      <td>0.40</td>\n",
       "      <td>0.40</td>\n",
       "      <td>Positive</td>\n",
       "    </tr>\n",
       "    <tr>\n",
       "      <th>4</th>\n",
       "      <td>2023-03-01 23:59:32</td>\n",
       "      <td>bitcoin short term fractal 4h lower timeframe ...</td>\n",
       "      <td>0.20</td>\n",
       "      <td>0.05</td>\n",
       "      <td>Positive</td>\n",
       "    </tr>\n",
       "  </tbody>\n",
       "</table>\n",
       "</div>"
      ],
      "text/plain": [
       "                  date                                  normalized_tokens  \\\n",
       "0  2023-03-01 23:59:59                    bitcoin book think reading next   \n",
       "1  2023-03-01 23:59:47  appreciate message not fan religious reference...   \n",
       "2  2023-03-01 23:59:42  ethereum price update eth usd bitcoin btc foll...   \n",
       "3  2023-03-01 23:59:36     coindashboard v30 available io android bitcoin   \n",
       "4  2023-03-01 23:59:32  bitcoin short term fractal 4h lower timeframe ...   \n",
       "\n",
       "   subjectivity  polarity sentiments  \n",
       "0          0.00      0.00    Neutral  \n",
       "1          0.25      0.00    Neutral  \n",
       "2          0.25      0.00    Neutral  \n",
       "3          0.40      0.40   Positive  \n",
       "4          0.20      0.05   Positive  "
      ]
     },
     "execution_count": 63,
     "metadata": {},
     "output_type": "execute_result"
    }
   ],
   "source": [
    "tweet_score = processed_tweet.copy()\n",
    "tweet_score.head()"
   ]
  },
  {
   "cell_type": "markdown",
   "id": "974350e0",
   "metadata": {},
   "source": [
    "### - Summary statistics for numerical variables"
   ]
  },
  {
   "cell_type": "code",
   "execution_count": 64,
   "id": "e7a234b8",
   "metadata": {},
   "outputs": [
    {
     "data": {
      "text/html": [
       "<div>\n",
       "<style scoped>\n",
       "    .dataframe tbody tr th:only-of-type {\n",
       "        vertical-align: middle;\n",
       "    }\n",
       "\n",
       "    .dataframe tbody tr th {\n",
       "        vertical-align: top;\n",
       "    }\n",
       "\n",
       "    .dataframe thead th {\n",
       "        text-align: right;\n",
       "    }\n",
       "</style>\n",
       "<table border=\"1\" class=\"dataframe\">\n",
       "  <thead>\n",
       "    <tr style=\"text-align: right;\">\n",
       "      <th></th>\n",
       "      <th>subjectivity</th>\n",
       "      <th>polarity</th>\n",
       "    </tr>\n",
       "  </thead>\n",
       "  <tbody>\n",
       "    <tr>\n",
       "      <th>count</th>\n",
       "      <td>98.000000</td>\n",
       "      <td>98.000000</td>\n",
       "    </tr>\n",
       "    <tr>\n",
       "      <th>mean</th>\n",
       "      <td>0.294486</td>\n",
       "      <td>0.110327</td>\n",
       "    </tr>\n",
       "    <tr>\n",
       "      <th>std</th>\n",
       "      <td>0.297599</td>\n",
       "      <td>0.259925</td>\n",
       "    </tr>\n",
       "    <tr>\n",
       "      <th>min</th>\n",
       "      <td>0.000000</td>\n",
       "      <td>-0.325000</td>\n",
       "    </tr>\n",
       "    <tr>\n",
       "      <th>25%</th>\n",
       "      <td>0.000000</td>\n",
       "      <td>0.000000</td>\n",
       "    </tr>\n",
       "    <tr>\n",
       "      <th>50%</th>\n",
       "      <td>0.250000</td>\n",
       "      <td>0.000000</td>\n",
       "    </tr>\n",
       "    <tr>\n",
       "      <th>75%</th>\n",
       "      <td>0.493750</td>\n",
       "      <td>0.146875</td>\n",
       "    </tr>\n",
       "    <tr>\n",
       "      <th>max</th>\n",
       "      <td>1.000000</td>\n",
       "      <td>1.000000</td>\n",
       "    </tr>\n",
       "  </tbody>\n",
       "</table>\n",
       "</div>"
      ],
      "text/plain": [
       "       subjectivity   polarity\n",
       "count     98.000000  98.000000\n",
       "mean       0.294486   0.110327\n",
       "std        0.297599   0.259925\n",
       "min        0.000000  -0.325000\n",
       "25%        0.000000   0.000000\n",
       "50%        0.250000   0.000000\n",
       "75%        0.493750   0.146875\n",
       "max        1.000000   1.000000"
      ]
     },
     "execution_count": 64,
     "metadata": {},
     "output_type": "execute_result"
    }
   ],
   "source": [
    "tweet_score.describe()"
   ]
  },
  {
   "cell_type": "markdown",
   "id": "0d016630",
   "metadata": {},
   "source": [
    "- Drop str object from date column to set as datetime object"
   ]
  },
  {
   "cell_type": "code",
   "execution_count": 65,
   "id": "90f726d6",
   "metadata": {},
   "outputs": [
    {
     "data": {
      "text/plain": [
       "0     2023-03-01 23:59:59\n",
       "1     2023-03-01 23:59:47\n",
       "2     2023-03-01 23:59:42\n",
       "3     2023-03-01 23:59:36\n",
       "4     2023-03-01 23:59:32\n",
       "             ...         \n",
       "93    2023-03-01 23:50:17\n",
       "94    2023-03-01 23:50:06\n",
       "95    2023-03-01 23:50:01\n",
       "96    2023-03-01 23:50:01\n",
       "97    2023-03-01 23:50:00\n",
       "Name: date, Length: 98, dtype: object"
      ]
     },
     "execution_count": 65,
     "metadata": {},
     "output_type": "execute_result"
    }
   ],
   "source": [
    "tweet_score.date.sort_values(ascending=False)"
   ]
  },
  {
   "cell_type": "code",
   "execution_count": 67,
   "id": "e01fa558",
   "metadata": {},
   "outputs": [],
   "source": [
    "#tweet_score = tweet_score.drop(index=[134580,177249,63273])"
   ]
  },
  {
   "cell_type": "code",
   "execution_count": 68,
   "id": "dce3b464",
   "metadata": {},
   "outputs": [
    {
     "data": {
      "text/html": [
       "<div>\n",
       "<style scoped>\n",
       "    .dataframe tbody tr th:only-of-type {\n",
       "        vertical-align: middle;\n",
       "    }\n",
       "\n",
       "    .dataframe tbody tr th {\n",
       "        vertical-align: top;\n",
       "    }\n",
       "\n",
       "    .dataframe thead th {\n",
       "        text-align: right;\n",
       "    }\n",
       "</style>\n",
       "<table border=\"1\" class=\"dataframe\">\n",
       "  <thead>\n",
       "    <tr style=\"text-align: right;\">\n",
       "      <th></th>\n",
       "      <th>date</th>\n",
       "      <th>normalized_tokens</th>\n",
       "      <th>subjectivity</th>\n",
       "      <th>polarity</th>\n",
       "      <th>sentiments</th>\n",
       "      <th>datetime</th>\n",
       "    </tr>\n",
       "  </thead>\n",
       "  <tbody>\n",
       "    <tr>\n",
       "      <th>0</th>\n",
       "      <td>2023-03-01 23:59:59</td>\n",
       "      <td>bitcoin book think reading next</td>\n",
       "      <td>0.00</td>\n",
       "      <td>0.0</td>\n",
       "      <td>Neutral</td>\n",
       "      <td>2023-03-01 23:00:00</td>\n",
       "    </tr>\n",
       "    <tr>\n",
       "      <th>1</th>\n",
       "      <td>2023-03-01 23:59:47</td>\n",
       "      <td>appreciate message not fan religious reference...</td>\n",
       "      <td>0.25</td>\n",
       "      <td>0.0</td>\n",
       "      <td>Neutral</td>\n",
       "      <td>2023-03-01 23:00:00</td>\n",
       "    </tr>\n",
       "  </tbody>\n",
       "</table>\n",
       "</div>"
      ],
      "text/plain": [
       "                  date                                  normalized_tokens  \\\n",
       "0  2023-03-01 23:59:59                    bitcoin book think reading next   \n",
       "1  2023-03-01 23:59:47  appreciate message not fan religious reference...   \n",
       "\n",
       "   subjectivity  polarity sentiments            datetime  \n",
       "0          0.00       0.0    Neutral 2023-03-01 23:00:00  \n",
       "1          0.25       0.0    Neutral 2023-03-01 23:00:00  "
      ]
     },
     "execution_count": 68,
     "metadata": {},
     "output_type": "execute_result"
    }
   ],
   "source": [
    "tweet_score['datetime'] = pd.to_datetime(tweet_score['date'])\n",
    "tweet_score = tweet_score.sort_values(by= 'datetime', ascending= False)\n",
    "tweet_score['datetime'] = tweet_score['datetime'].dt.floor('h')\n",
    "tweet_score.head(2)"
   ]
  },
  {
   "cell_type": "markdown",
   "id": "2f1166c6",
   "metadata": {},
   "source": [
    "### - Hourly Tweet Sentiment Summary"
   ]
  },
  {
   "cell_type": "code",
   "execution_count": 69,
   "id": "d1221648",
   "metadata": {},
   "outputs": [
    {
     "data": {
      "text/html": [
       "<div>\n",
       "<style scoped>\n",
       "    .dataframe tbody tr th:only-of-type {\n",
       "        vertical-align: middle;\n",
       "    }\n",
       "\n",
       "    .dataframe tbody tr th {\n",
       "        vertical-align: top;\n",
       "    }\n",
       "\n",
       "    .dataframe thead tr th {\n",
       "        text-align: left;\n",
       "    }\n",
       "\n",
       "    .dataframe thead tr:last-of-type th {\n",
       "        text-align: right;\n",
       "    }\n",
       "</style>\n",
       "<table border=\"1\" class=\"dataframe\">\n",
       "  <thead>\n",
       "    <tr>\n",
       "      <th></th>\n",
       "      <th colspan=\"8\" halign=\"left\">subjectivity</th>\n",
       "      <th colspan=\"8\" halign=\"left\">polarity</th>\n",
       "    </tr>\n",
       "    <tr>\n",
       "      <th></th>\n",
       "      <th>count</th>\n",
       "      <th>mean</th>\n",
       "      <th>std</th>\n",
       "      <th>min</th>\n",
       "      <th>25%</th>\n",
       "      <th>50%</th>\n",
       "      <th>75%</th>\n",
       "      <th>max</th>\n",
       "      <th>count</th>\n",
       "      <th>mean</th>\n",
       "      <th>std</th>\n",
       "      <th>min</th>\n",
       "      <th>25%</th>\n",
       "      <th>50%</th>\n",
       "      <th>75%</th>\n",
       "      <th>max</th>\n",
       "    </tr>\n",
       "    <tr>\n",
       "      <th>datetime</th>\n",
       "      <th></th>\n",
       "      <th></th>\n",
       "      <th></th>\n",
       "      <th></th>\n",
       "      <th></th>\n",
       "      <th></th>\n",
       "      <th></th>\n",
       "      <th></th>\n",
       "      <th></th>\n",
       "      <th></th>\n",
       "      <th></th>\n",
       "      <th></th>\n",
       "      <th></th>\n",
       "      <th></th>\n",
       "      <th></th>\n",
       "      <th></th>\n",
       "    </tr>\n",
       "  </thead>\n",
       "  <tbody>\n",
       "    <tr>\n",
       "      <th>2023-03-01 23:00:00</th>\n",
       "      <td>98.0</td>\n",
       "      <td>0.294486</td>\n",
       "      <td>0.297599</td>\n",
       "      <td>0.0</td>\n",
       "      <td>0.0</td>\n",
       "      <td>0.25</td>\n",
       "      <td>0.49375</td>\n",
       "      <td>1.0</td>\n",
       "      <td>98.0</td>\n",
       "      <td>0.110327</td>\n",
       "      <td>0.259925</td>\n",
       "      <td>-0.325</td>\n",
       "      <td>0.0</td>\n",
       "      <td>0.0</td>\n",
       "      <td>0.146875</td>\n",
       "      <td>1.0</td>\n",
       "    </tr>\n",
       "  </tbody>\n",
       "</table>\n",
       "</div>"
      ],
      "text/plain": [
       "                    subjectivity                                               \\\n",
       "                           count      mean       std  min  25%   50%      75%   \n",
       "datetime                                                                        \n",
       "2023-03-01 23:00:00         98.0  0.294486  0.297599  0.0  0.0  0.25  0.49375   \n",
       "\n",
       "                         polarity                                       \\\n",
       "                     max    count      mean       std    min  25%  50%   \n",
       "datetime                                                                 \n",
       "2023-03-01 23:00:00  1.0     98.0  0.110327  0.259925 -0.325  0.0  0.0   \n",
       "\n",
       "                                    \n",
       "                          75%  max  \n",
       "datetime                            \n",
       "2023-03-01 23:00:00  0.146875  1.0  "
      ]
     },
     "execution_count": 69,
     "metadata": {},
     "output_type": "execute_result"
    }
   ],
   "source": [
    "tweet_score_statistics = tweet_score.groupby('datetime').describe()\n",
    "tweet_score_statistics"
   ]
  },
  {
   "cell_type": "code",
   "execution_count": 709,
   "id": "1368c072",
   "metadata": {},
   "outputs": [
    {
     "data": {
      "text/html": [
       "<div>\n",
       "<style scoped>\n",
       "    .dataframe tbody tr th:only-of-type {\n",
       "        vertical-align: middle;\n",
       "    }\n",
       "\n",
       "    .dataframe tbody tr th {\n",
       "        vertical-align: top;\n",
       "    }\n",
       "\n",
       "    .dataframe thead th {\n",
       "        text-align: right;\n",
       "    }\n",
       "</style>\n",
       "<table border=\"1\" class=\"dataframe\">\n",
       "  <thead>\n",
       "    <tr style=\"text-align: right;\">\n",
       "      <th></th>\n",
       "      <th>date</th>\n",
       "      <th>normalized_tokens</th>\n",
       "      <th>subjectivity</th>\n",
       "      <th>polarity</th>\n",
       "      <th>sentiments</th>\n",
       "      <th>datetime</th>\n",
       "    </tr>\n",
       "  </thead>\n",
       "  <tbody>\n",
       "    <tr>\n",
       "      <th>126064</th>\n",
       "      <td>2021-06-23 19:29:37</td>\n",
       "      <td>turtle finance ready fly turtlefinancetoken tu...</td>\n",
       "      <td>0.633333</td>\n",
       "      <td>0.500000</td>\n",
       "      <td>Positive</td>\n",
       "      <td>2021-06-23 19:00:00</td>\n",
       "    </tr>\n",
       "    <tr>\n",
       "      <th>126065</th>\n",
       "      <td>2021-06-23 19:29:35</td>\n",
       "      <td>btcusd current bitcoin price day high day low ...</td>\n",
       "      <td>0.411429</td>\n",
       "      <td>0.002857</td>\n",
       "      <td>Positive</td>\n",
       "      <td>2021-06-23 19:00:00</td>\n",
       "    </tr>\n",
       "    <tr>\n",
       "      <th>126066</th>\n",
       "      <td>2021-06-23 19:29:33</td>\n",
       "      <td>official eshop airdrop missed meme token rally...</td>\n",
       "      <td>0.000000</td>\n",
       "      <td>0.000000</td>\n",
       "      <td>Neutral</td>\n",
       "      <td>2021-06-23 19:00:00</td>\n",
       "    </tr>\n",
       "    <tr>\n",
       "      <th>126067</th>\n",
       "      <td>2021-06-23 19:29:31</td>\n",
       "      <td>exactly bitcoin welcome</td>\n",
       "      <td>0.575000</td>\n",
       "      <td>0.525000</td>\n",
       "      <td>Positive</td>\n",
       "      <td>2021-06-23 19:00:00</td>\n",
       "    </tr>\n",
       "    <tr>\n",
       "      <th>126069</th>\n",
       "      <td>2021-06-23 19:29:21</td>\n",
       "      <td>true degenerate miss rip bitcoin</td>\n",
       "      <td>0.650000</td>\n",
       "      <td>0.350000</td>\n",
       "      <td>Positive</td>\n",
       "      <td>2021-06-23 19:00:00</td>\n",
       "    </tr>\n",
       "  </tbody>\n",
       "</table>\n",
       "</div>"
      ],
      "text/plain": [
       "                       date  \\\n",
       "126064  2021-06-23 19:29:37   \n",
       "126065  2021-06-23 19:29:35   \n",
       "126066  2021-06-23 19:29:33   \n",
       "126067  2021-06-23 19:29:31   \n",
       "126069  2021-06-23 19:29:21   \n",
       "\n",
       "                                        normalized_tokens  subjectivity  \\\n",
       "126064  turtle finance ready fly turtlefinancetoken tu...      0.633333   \n",
       "126065  btcusd current bitcoin price day high day low ...      0.411429   \n",
       "126066  official eshop airdrop missed meme token rally...      0.000000   \n",
       "126067                            exactly bitcoin welcome      0.575000   \n",
       "126069                   true degenerate miss rip bitcoin      0.650000   \n",
       "\n",
       "        polarity sentiments            datetime  \n",
       "126064  0.500000   Positive 2021-06-23 19:00:00  \n",
       "126065  0.002857   Positive 2021-06-23 19:00:00  \n",
       "126066  0.000000    Neutral 2021-06-23 19:00:00  \n",
       "126067  0.525000   Positive 2021-06-23 19:00:00  \n",
       "126069  0.350000   Positive 2021-06-23 19:00:00  "
      ]
     },
     "execution_count": 709,
     "metadata": {},
     "output_type": "execute_result"
    }
   ],
   "source": [
    "tweet_score.head()"
   ]
  },
  {
   "cell_type": "code",
   "execution_count": 710,
   "id": "bd86abf4",
   "metadata": {},
   "outputs": [
    {
     "name": "stdout",
     "output_type": "stream",
     "text": [
      "tweets' data time-range : from  2021-06-23 19:00:00  to  2021-02-05 10:00:00\n"
     ]
    }
   ],
   "source": [
    "print(\"tweets' data time-range : from \", tweet_score.datetime.iloc[0], \" to \", tweet_score.datetime.iloc[-1] )"
   ]
  },
  {
   "cell_type": "markdown",
   "id": "78bdcc51",
   "metadata": {},
   "source": [
    "- Prepare tweet score data to merge: Set datetime as index"
   ]
  },
  {
   "cell_type": "code",
   "execution_count": 712,
   "id": "42eb73d9",
   "metadata": {},
   "outputs": [
    {
     "data": {
      "text/html": [
       "<div>\n",
       "<style scoped>\n",
       "    .dataframe tbody tr th:only-of-type {\n",
       "        vertical-align: middle;\n",
       "    }\n",
       "\n",
       "    .dataframe tbody tr th {\n",
       "        vertical-align: top;\n",
       "    }\n",
       "\n",
       "    .dataframe thead th {\n",
       "        text-align: right;\n",
       "    }\n",
       "</style>\n",
       "<table border=\"1\" class=\"dataframe\">\n",
       "  <thead>\n",
       "    <tr style=\"text-align: right;\">\n",
       "      <th></th>\n",
       "      <th>date</th>\n",
       "      <th>normalized_tokens</th>\n",
       "      <th>subjectivity</th>\n",
       "      <th>polarity</th>\n",
       "      <th>sentiments</th>\n",
       "    </tr>\n",
       "    <tr>\n",
       "      <th>datetime</th>\n",
       "      <th></th>\n",
       "      <th></th>\n",
       "      <th></th>\n",
       "      <th></th>\n",
       "      <th></th>\n",
       "    </tr>\n",
       "  </thead>\n",
       "  <tbody>\n",
       "    <tr>\n",
       "      <th>2021-06-23 19:00:00</th>\n",
       "      <td>2021-06-23 19:29:37</td>\n",
       "      <td>turtle finance ready fly turtlefinancetoken tu...</td>\n",
       "      <td>0.633333</td>\n",
       "      <td>0.500000</td>\n",
       "      <td>Positive</td>\n",
       "    </tr>\n",
       "    <tr>\n",
       "      <th>2021-06-23 19:00:00</th>\n",
       "      <td>2021-06-23 19:29:35</td>\n",
       "      <td>btcusd current bitcoin price day high day low ...</td>\n",
       "      <td>0.411429</td>\n",
       "      <td>0.002857</td>\n",
       "      <td>Positive</td>\n",
       "    </tr>\n",
       "    <tr>\n",
       "      <th>2021-06-23 19:00:00</th>\n",
       "      <td>2021-06-23 19:29:33</td>\n",
       "      <td>official eshop airdrop missed meme token rally...</td>\n",
       "      <td>0.000000</td>\n",
       "      <td>0.000000</td>\n",
       "      <td>Neutral</td>\n",
       "    </tr>\n",
       "    <tr>\n",
       "      <th>2021-06-23 19:00:00</th>\n",
       "      <td>2021-06-23 19:29:31</td>\n",
       "      <td>exactly bitcoin welcome</td>\n",
       "      <td>0.575000</td>\n",
       "      <td>0.525000</td>\n",
       "      <td>Positive</td>\n",
       "    </tr>\n",
       "    <tr>\n",
       "      <th>2021-06-23 19:00:00</th>\n",
       "      <td>2021-06-23 19:29:21</td>\n",
       "      <td>true degenerate miss rip bitcoin</td>\n",
       "      <td>0.650000</td>\n",
       "      <td>0.350000</td>\n",
       "      <td>Positive</td>\n",
       "    </tr>\n",
       "  </tbody>\n",
       "</table>\n",
       "</div>"
      ],
      "text/plain": [
       "                                    date  \\\n",
       "datetime                                   \n",
       "2021-06-23 19:00:00  2021-06-23 19:29:37   \n",
       "2021-06-23 19:00:00  2021-06-23 19:29:35   \n",
       "2021-06-23 19:00:00  2021-06-23 19:29:33   \n",
       "2021-06-23 19:00:00  2021-06-23 19:29:31   \n",
       "2021-06-23 19:00:00  2021-06-23 19:29:21   \n",
       "\n",
       "                                                     normalized_tokens  \\\n",
       "datetime                                                                 \n",
       "2021-06-23 19:00:00  turtle finance ready fly turtlefinancetoken tu...   \n",
       "2021-06-23 19:00:00  btcusd current bitcoin price day high day low ...   \n",
       "2021-06-23 19:00:00  official eshop airdrop missed meme token rally...   \n",
       "2021-06-23 19:00:00                            exactly bitcoin welcome   \n",
       "2021-06-23 19:00:00                   true degenerate miss rip bitcoin   \n",
       "\n",
       "                     subjectivity  polarity sentiments  \n",
       "datetime                                                \n",
       "2021-06-23 19:00:00      0.633333  0.500000   Positive  \n",
       "2021-06-23 19:00:00      0.411429  0.002857   Positive  \n",
       "2021-06-23 19:00:00      0.000000  0.000000    Neutral  \n",
       "2021-06-23 19:00:00      0.575000  0.525000   Positive  \n",
       "2021-06-23 19:00:00      0.650000  0.350000   Positive  "
      ]
     },
     "execution_count": 712,
     "metadata": {},
     "output_type": "execute_result"
    }
   ],
   "source": [
    "tweet_score.index = pd.to_datetime(tweet_score.index)\n",
    "tweet_score=tweet_score.set_index('datetime')\n",
    "tweet_score.index.names = ['datetime']\n",
    "tweet_score.head()"
   ]
  },
  {
   "cell_type": "code",
   "execution_count": null,
   "id": "679364a0",
   "metadata": {},
   "outputs": [],
   "source": []
  }
 ],
 "metadata": {
  "kernelspec": {
   "display_name": "Python 3 (ipykernel)",
   "language": "python",
   "name": "python3"
  },
  "language_info": {
   "codemirror_mode": {
    "name": "ipython",
    "version": 3
   },
   "file_extension": ".py",
   "mimetype": "text/x-python",
   "name": "python",
   "nbconvert_exporter": "python",
   "pygments_lexer": "ipython3",
   "version": "3.10.7"
  }
 },
 "nbformat": 4,
 "nbformat_minor": 5
}
